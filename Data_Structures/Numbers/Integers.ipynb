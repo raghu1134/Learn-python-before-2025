{
 "cells": [
  {
   "cell_type": "markdown",
   "id": "2707853b-c7bf-4d91-8670-7f35094f4589",
   "metadata": {},
   "source": [
    "# Python Data Structures: A Beginner's Guide\n",
    "\n",
    "Python offers several built-in data structures and types to help organize and manage data efficiently. Let's explore them in sequence: numbers, strings, lists, dictionaries, tuples, and sets.\n",
    "\n",
    "## Numbers\n",
    "\n",
    "### What are Numbers?\n",
    "\n",
    "Numbers in Python are used to store numeric values. They can be integers, floating-point numbers, or complex numbers.\n",
    "\n",
    "## Integers\n",
    "\n",
    "In Python, integers are whole numbers that do not have any decimal places. They can be positive, like 10, or negative, like -5. Integers are used for basic arithmetic operations such as adding, subtracting, multiplying, and dividing. Python handles integers well, and they can be as large as your computer's memory allows. For beginners, working with integers is a great way to start learning how to perform calculations and understand how numbers work in programming.\n",
    "\n",
    "```python\n",
    "5 # is an integer \n",
    "\n",
    "a = 5 \n",
    "\n",
    "# Here we created a variable a and assigned vlaue of 5 as an integer \n",
    "\n",
    "# To check the 5 value , i mean to see what type is that . we use below syntax\n",
    "type(a)\n",
    "# where 5 was assigned to variable a and we checking the type of a\n",
    "\n",
    "int \n",
    "\n",
    "# we get the data type as above int\n",
    "```\n",
    "# Basic Arithmetic Operations in Python for Integers\n",
    "\n",
    "Python allows you to perform arithmetic directly with numbers:\n",
    "\n",
    "## 1. Addition\n",
    "\n",
    "Addition symbol  `+`\n",
    "\n",
    "```python\n",
    "5 + 3  # Output: 8\n",
    "```"
   ]
  },
  {
   "cell_type": "code",
   "execution_count": 3,
   "id": "93945219-135b-4033-950d-ab971fa69364",
   "metadata": {},
   "outputs": [],
   "source": [
    "# Before running this cell guess the answer and see it yourself\n",
    "\n",
    "3 + 4 \n",
    "\n",
    "# use below cell and make atleast 1 calculation on your own."
   ]
  },
  {
   "cell_type": "code",
   "execution_count": null,
   "id": "39238e1e-c1b7-4916-be91-d000e3b46e8f",
   "metadata": {},
   "outputs": [],
   "source": []
  },
  {
   "cell_type": "markdown",
   "id": "8b7ef00e-cf69-412b-bd9e-481b118ff0d5",
   "metadata": {},
   "source": [
    "## 2. Subtraction\n",
    "\n",
    "subtraction symbol `-`\n",
    "```python\n",
    "5 - 3  # Output: 2\n",
    "```\n"
   ]
  },
  {
   "cell_type": "code",
   "execution_count": null,
   "id": "e31422e8-672f-4a9b-abb1-2db6002d98f7",
   "metadata": {},
   "outputs": [],
   "source": [
    "# Before running this cell guess the answer and see it yourself\n",
    "\n",
    "4 - 3\n",
    "\n",
    "# use below cell and make atleast 1 calculation on your own."
   ]
  },
  {
   "cell_type": "code",
   "execution_count": null,
   "id": "d36c24e0-7796-4dc4-8691-9ae7306b9467",
   "metadata": {},
   "outputs": [],
   "source": []
  },
  {
   "cell_type": "markdown",
   "id": "625fec71-5036-4aac-ae38-e2a1a890daf7",
   "metadata": {},
   "source": [
    "## 3. Multiplication\n",
    "\n",
    "Multiplication symbol `*`\n",
    "```python\n",
    "5 * 3 # output: 15\n",
    "```"
   ]
  },
  {
   "cell_type": "code",
   "execution_count": null,
   "id": "6a564e6b-a391-4994-887c-5a4b16bacac4",
   "metadata": {},
   "outputs": [],
   "source": [
    "# Before running this cell guess the answer and see it yourself\n",
    "\n",
    "3 * 4\n",
    "\n",
    "# use below cell and make atleast 1 calculation on your own."
   ]
  },
  {
   "cell_type": "code",
   "execution_count": null,
   "id": "30ee0594-c0e9-4ddb-b544-a97a7277ee48",
   "metadata": {},
   "outputs": [],
   "source": []
  },
  {
   "cell_type": "markdown",
   "id": "836d28b2-e2a0-48b8-bc19-35492a688ec4",
   "metadata": {},
   "source": [
    "## 4. Division\n",
    "\n",
    "Division symbol `/`\n",
    "\n",
    "```python\n",
    "5 / 3  # Output: 1.666...\n"
   ]
  },
  {
   "cell_type": "code",
   "execution_count": null,
   "id": "30a3d6b5-0ea7-4dcc-962d-70f73449c5da",
   "metadata": {},
   "outputs": [],
   "source": [
    "# Before running this cell guess the answer and see it yourself\n",
    "\n",
    "6 / 2\n",
    "\n",
    "# use below cell and make atleast 1 calculation on your own."
   ]
  },
  {
   "cell_type": "code",
   "execution_count": null,
   "id": "6745b069-0829-4ea5-ac2e-003ea2567612",
   "metadata": {},
   "outputs": [],
   "source": []
  },
  {
   "cell_type": "markdown",
   "id": "0e93b6ea-b514-407a-9956-1fd06f2e2d91",
   "metadata": {},
   "source": [
    "## 6. Modulus\n",
    "\n",
    "Modulus symbol `%`\n",
    "\n",
    "```python\n",
    "5 % 3  # Output: 2\n"
   ]
  },
  {
   "cell_type": "code",
   "execution_count": null,
   "id": "283f6802-63af-4461-9bd9-6aceaff041c2",
   "metadata": {},
   "outputs": [],
   "source": [
    "# Before running this cell guess the answer and see it yourself\n",
    "\n",
    "3 % 4\n",
    "\n",
    "# use below cell and make atleast 1 calculation on your own."
   ]
  },
  {
   "cell_type": "code",
   "execution_count": null,
   "id": "3b09f84d-c6dd-49a2-a4ff-c6e8ad830dd0",
   "metadata": {},
   "outputs": [],
   "source": []
  },
  {
   "cell_type": "markdown",
   "id": "f9aa4b75-b6ae-43bd-904a-8f1dbecb97a5",
   "metadata": {},
   "source": [
    "## 7. Exponentiation\n",
    "\n",
    "Exponentiation symbol `**`\n",
    "\n",
    "\n",
    "```python\n",
    "5 ** 2  # Output: 25\n",
    "\n",
    "Nothing but we are Square, 5 square 2\n",
    "\n",
    "5 ** 3 # output: 125\n",
    "\n",
    "here we did 5 cube 3"
   ]
  },
  {
   "cell_type": "code",
   "execution_count": null,
   "id": "f4225e91-29a2-4216-81e0-30c764f0879d",
   "metadata": {},
   "outputs": [],
   "source": [
    "# Before running this cell guess the answer and see it yourself\n",
    "\n",
    "5 ** 5\n",
    "\n",
    "# use below cell and make atleast 1 calculation on your own."
   ]
  },
  {
   "cell_type": "code",
   "execution_count": null,
   "id": "45ef95df-ce3e-44ee-89f4-a2dcd8eb42d1",
   "metadata": {},
   "outputs": [],
   "source": []
  }
 ],
 "metadata": {
  "kernelspec": {
   "display_name": "Python 3 (ipykernel)",
   "language": "python",
   "name": "python3"
  },
  "language_info": {
   "codemirror_mode": {
    "name": "ipython",
    "version": 3
   },
   "file_extension": ".py",
   "mimetype": "text/x-python",
   "name": "python",
   "nbconvert_exporter": "python",
   "pygments_lexer": "ipython3",
   "version": "3.10.12"
  }
 },
 "nbformat": 4,
 "nbformat_minor": 5
}
