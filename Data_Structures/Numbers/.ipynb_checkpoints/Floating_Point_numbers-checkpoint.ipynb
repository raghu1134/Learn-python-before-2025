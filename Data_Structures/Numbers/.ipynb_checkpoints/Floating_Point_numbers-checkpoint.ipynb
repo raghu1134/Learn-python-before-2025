{
 "cells": [
  {
   "cell_type": "markdown",
   "id": "152c34b4-540b-4a43-a6be-b8e2167f0194",
   "metadata": {},
   "source": [
    "# Working with Floating-Point Numbers in Python\n",
    "\n",
    "Floating-point numbers represent real numbers that include a decimal point. They are used for more precise calculations that involve fractions.\n",
    "\n",
    "```python\n",
    "3.34 is a Float Value\n",
    "```\n",
    "## 1. Basic Operations\n",
    "\n",
    "### Addition\n",
    "\n",
    "```python\n",
    "# Adding two floating-point numbers\n",
    "result = 3.5 + 2.1\n",
    "print(result)  # Output: 5.6\n"
   ]
  },
  {
   "cell_type": "code",
   "execution_count": null,
   "id": "dc073093-148e-46e8-84e7-2735d68f0419",
   "metadata": {},
   "outputs": [],
   "source": [
    "# Before running this cell guess the answer and see it yourself\n",
    "\n",
    "32.02 + 2.32 \n",
    "\n",
    "# use below cell and make atleast 1 calculation on your own."
   ]
  },
  {
   "cell_type": "markdown",
   "id": "ffc6d85e-a834-4111-bbe0-a0b7ff525487",
   "metadata": {},
   "source": [
    "# 2.Subtracting two floating-point numbers\n",
    "\n",
    "```python\n",
    "result = 5.7 - 2.3\n",
    "print(result)  # Output: 3.4\n"
   ]
  },
  {
   "cell_type": "code",
   "execution_count": null,
   "id": "e495dd04-4f54-4298-84ae-4a66d678dc1d",
   "metadata": {},
   "outputs": [],
   "source": [
    "# Before running this cell guess the answer and see it yourself\n",
    "\n",
    "34.65 - 45.32 \n",
    "\n",
    "# use below cell and make atleast 1 calculation on your own."
   ]
  },
  {
   "cell_type": "code",
   "execution_count": null,
   "id": "0d277526-2346-44d6-8bca-f1ab222e5b8b",
   "metadata": {},
   "outputs": [],
   "source": []
  },
  {
   "cell_type": "markdown",
   "id": "6ad26ce9-803c-49ff-8f4b-f3d3dff73caf",
   "metadata": {},
   "source": [
    "# 3.Multiplying two floating-point numbers\n",
    "```python\n",
    "result = 4.2 * 3.0\n",
    "print(result)  # Output: 12.6\n"
   ]
  },
  {
   "cell_type": "code",
   "execution_count": null,
   "id": "0c3b1375-d007-4e54-a2af-29a97f48a6a6",
   "metadata": {},
   "outputs": [],
   "source": [
    "# Before running this cell guess the answer and see it yourself\n",
    "\n",
    "4.95 * 48.12 \n",
    "\n",
    "# use below cell and make atleast 1 calculation on your own."
   ]
  },
  {
   "cell_type": "markdown",
   "id": "48dcbd6d-0b02-40ea-a432-647db4571350",
   "metadata": {},
   "source": [
    "# 4.Dividing two floating-point numbers\n",
    "```python\n",
    "result = 7.5 / 2.5\n",
    "print(result)  # Output: 3.0\n"
   ]
  },
  {
   "cell_type": "code",
   "execution_count": null,
   "id": "6bf92e93-b92a-426e-97cf-452ca2a6e73d",
   "metadata": {},
   "outputs": [],
   "source": [
    "# Before running this cell guess the answer and see it yourself\n",
    "\n",
    "6.03 / 7.23 \n",
    "\n",
    "# use below cell and make atleast 1 calculation on your own."
   ]
  },
  {
   "cell_type": "code",
   "execution_count": null,
   "id": "8301208a-bff4-4dfe-a5ce-400866e31ebe",
   "metadata": {},
   "outputs": [],
   "source": []
  },
  {
   "cell_type": "markdown",
   "id": "ff28a01d-c0af-4d7e-8bd3-a2da40c9c629",
   "metadata": {},
   "source": [
    "## 5. Modulus\n",
    "Modulus symbol % (Note: Modulus with floating-point numbers can be less intuitive)\n",
    "\n",
    "\n",
    "# Modulus operation with floating-point numbers\n",
    "```python\n",
    "result = 7.5% 2.2\n",
    "print(result)  # Output: 1.1"
   ]
  },
  {
   "cell_type": "code",
   "execution_count": null,
   "id": "6d969f89-62c7-4f01-bd76-16da4e3d3fc2",
   "metadata": {},
   "outputs": [],
   "source": [
    "# Before running this cell guess the answer and see it yourself\n",
    "\n",
    "6.63 % 2.99\n",
    "\n",
    "# use below cell and make atleast 1 calculation on your own."
   ]
  },
  {
   "cell_type": "code",
   "execution_count": null,
   "id": "48997336-30b3-4b1f-8c21-f8496c19bcc0",
   "metadata": {},
   "outputs": [],
   "source": []
  },
  {
   "cell_type": "markdown",
   "id": "6e0638d6-4338-45d0-ab2c-8bfb36c5019c",
   "metadata": {},
   "source": [
    "## 6.Exponentiation\n",
    "\n",
    "# Raising a floating-point number to a power\n",
    "```python\n",
    "result = 2.5 ** 3\n",
    "print(result)  # Output: 15.625\n",
    "\n",
    "Exponentiation raises the first number to the power of the second number."
   ]
  },
  {
   "cell_type": "code",
   "execution_count": null,
   "id": "e7476542-772f-417c-90db-3d816f07c0d2",
   "metadata": {},
   "outputs": [],
   "source": [
    "# Before running this cell guess the answer and see it yourself\n",
    "\n",
    "4.44 ** 7.77\n",
    "\n",
    "# use below cell and make atleast 1 calculation on your own."
   ]
  },
  {
   "cell_type": "code",
   "execution_count": null,
   "id": "5f0f98a5-23d8-4123-898f-1e1e10f0121e",
   "metadata": {},
   "outputs": [],
   "source": []
  },
  {
   "cell_type": "markdown",
   "id": "eb34cc79-457c-4647-83de-44bfc94272e4",
   "metadata": {},
   "source": [
    "# Working with Floating-Point Precision\n",
    "Floating-point numbers may have precision issues due to their internal representation.\n",
    "\n",
    "# Example of floating-point precision issue\n",
    "```python\n",
    "result = 0.1 + 0.2\n",
    "print(result)  # Output: 0.30000000000000004\n",
    "```\n",
    "Floating-point numbers can sometimes produce unexpected results due to how they are represented in memory. It’s important to be aware of these potential issues when working with floating-point arithmetic.\n",
    "\n"
   ]
  },
  {
   "cell_type": "code",
   "execution_count": 3,
   "id": "51fca6f0-9f7c-4ef2-9421-1875379ad151",
   "metadata": {},
   "outputs": [],
   "source": [
    "# Try out the Precision Issue cases."
   ]
  },
  {
   "cell_type": "code",
   "execution_count": null,
   "id": "62ae7cb0-ee91-4645-9ed4-46f16592447d",
   "metadata": {},
   "outputs": [],
   "source": []
  }
 ],
 "metadata": {
  "kernelspec": {
   "display_name": "Python 3 (ipykernel)",
   "language": "python",
   "name": "python3"
  },
  "language_info": {
   "codemirror_mode": {
    "name": "ipython",
    "version": 3
   },
   "file_extension": ".py",
   "mimetype": "text/x-python",
   "name": "python",
   "nbconvert_exporter": "python",
   "pygments_lexer": "ipython3",
   "version": "3.10.12"
  }
 },
 "nbformat": 4,
 "nbformat_minor": 5
}
