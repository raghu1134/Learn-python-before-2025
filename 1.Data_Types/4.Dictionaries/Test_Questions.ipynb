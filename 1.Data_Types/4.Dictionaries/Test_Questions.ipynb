{
 "cells": [
  {
   "cell_type": "markdown",
   "id": "a218408b-999a-4597-bcd9-fe016257f2b8",
   "metadata": {},
   "source": [
    "## Dictionary Practice Questions\n",
    "\n",
    "1. **Creating a Dictionary**: How do you create a dictionary with keys \"name\" and \"age\" and values \"Alice\" and 25?\n"
   ]
  },
  {
   "cell_type": "code",
   "execution_count": null,
   "id": "70c9e18d-0329-4a0d-ac88-bdba9d377c35",
   "metadata": {},
   "outputs": [],
   "source": []
  },
  {
   "cell_type": "markdown",
   "id": "2b7e6a2d-2fb9-4e70-bdc1-5204f899c8ac",
   "metadata": {},
   "source": [
    "2.**Accessing Values**: What is the value associated with the key \"age\" in {\"name\": \"Bob\", \"age\": 30}?"
   ]
  },
  {
   "cell_type": "code",
   "execution_count": null,
   "id": "952e636a-110a-4e7c-b422-10619780fac4",
   "metadata": {},
   "outputs": [],
   "source": []
  },
  {
   "cell_type": "markdown",
   "id": "96090bb8-6610-49bf-8fbb-05e849860352",
   "metadata": {},
   "source": [
    "3.**Adding a Key-Value Pair**: How do you add a key \"city\" with value \"New York\" to the dictionary {\"name\": \"Eve\"}?"
   ]
  },
  {
   "cell_type": "code",
   "execution_count": null,
   "id": "c4309222-59a3-4769-94c3-3d15c768166d",
   "metadata": {},
   "outputs": [],
   "source": []
  },
  {
   "cell_type": "markdown",
   "id": "709c275b-66ba-4028-a885-484971337220",
   "metadata": {},
   "source": [
    "4,**Updating a Value**: How do you update the value of \"age\" to 26 in {\"name\": \"Dan\", \"age\": 25}?"
   ]
  },
  {
   "cell_type": "code",
   "execution_count": null,
   "id": "52f516d0-d5af-4d60-a48c-6004695c2107",
   "metadata": {},
   "outputs": [],
   "source": []
  },
  {
   "cell_type": "markdown",
   "id": "9faa9b40-7d30-44e8-a2de-937056f27561",
   "metadata": {},
   "source": [
    "5.**Removing a Key-Value Pair**: How do you remove the key \"name\" from {\"name\": \"Sam\", \"age\": 22}?"
   ]
  },
  {
   "cell_type": "code",
   "execution_count": null,
   "id": "92430adf-eac5-4d34-a73a-88098b8ff01f",
   "metadata": {},
   "outputs": [],
   "source": []
  },
  {
   "cell_type": "markdown",
   "id": "8ee1db5f-c98b-4b35-add3-3b6776434b49",
   "metadata": {},
   "source": [
    "6.**Using the get Method**: How do you safely get the value of \"height\" from {\"name\": \"Kate\", \"age\": 28} with a default of 0?"
   ]
  },
  {
   "cell_type": "code",
   "execution_count": null,
   "id": "9f2109ac-0436-46f0-9d2d-89777e1c7666",
   "metadata": {},
   "outputs": [],
   "source": []
  },
  {
   "cell_type": "markdown",
   "id": "4a0df4e2-ee4d-47c7-b3f2-9d2209de6b11",
   "metadata": {},
   "source": [
    "7.**Keys Method**: How do you get all the keys from {\"brand\": \"Ford\", \"model\": \"Mustang\"}?"
   ]
  },
  {
   "cell_type": "code",
   "execution_count": null,
   "id": "e6ad668c-a9f8-45bc-b6c7-67cba86c6f7e",
   "metadata": {},
   "outputs": [],
   "source": []
  },
  {
   "cell_type": "markdown",
   "id": "397550bd-0cf8-4555-89ed-e2e9a09d99ee",
   "metadata": {},
   "source": [
    "8.**Values Method**: How do you get all the values from {\"fruit\": \"apple\", \"color\": \"red\"}?"
   ]
  },
  {
   "cell_type": "code",
   "execution_count": null,
   "id": "b453b1c5-3729-4a5b-ae23-81f887ddfee0",
   "metadata": {},
   "outputs": [],
   "source": []
  },
  {
   "cell_type": "markdown",
   "id": "137a2e79-10cf-47c5-9af8-0de235d45ba7",
   "metadata": {},
   "source": [
    "9.**Items Method**: How do you get all key-value pairs from {\"animal\": \"cat\", \"sound\": \"meow\"}?"
   ]
  },
  {
   "cell_type": "code",
   "execution_count": null,
   "id": "8d33a4fd-8614-4718-ad0a-1ef3df8ea9b5",
   "metadata": {},
   "outputs": [],
   "source": []
  },
  {
   "cell_type": "markdown",
   "id": "87ed8ff5-8381-4db1-8be7-8926914681d9",
   "metadata": {},
   "source": [
    "10.**Nesting Dictionaries**: How do you create a dictionary with a nested dictionary for key \"person\" with keys \"name\" and \"age\"?"
   ]
  },
  {
   "cell_type": "code",
   "execution_count": null,
   "id": "7e040ace-6beb-41e8-8c14-05d9a98218d4",
   "metadata": {},
   "outputs": [],
   "source": []
  }
 ],
 "metadata": {
  "kernelspec": {
   "display_name": "Python 3 (ipykernel)",
   "language": "python",
   "name": "python3"
  },
  "language_info": {
   "codemirror_mode": {
    "name": "ipython",
    "version": 3
   },
   "file_extension": ".py",
   "mimetype": "text/x-python",
   "name": "python",
   "nbconvert_exporter": "python",
   "pygments_lexer": "ipython3",
   "version": "3.10.12"
  }
 },
 "nbformat": 4,
 "nbformat_minor": 5
}
