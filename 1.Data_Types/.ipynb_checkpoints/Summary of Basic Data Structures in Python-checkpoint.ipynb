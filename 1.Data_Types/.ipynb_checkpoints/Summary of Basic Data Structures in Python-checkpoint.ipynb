{
 "cells": [
  {
   "cell_type": "markdown",
   "id": "b81baaf7-8dce-4e48-acb5-fee7fcd9d78a",
   "metadata": {},
   "source": [
    "# Summary of Basic Data Structures in Python\n",
    "## 1. Numbers\n",
    "**Types**: Python supports various types of numbers including integers (int), floating-point numbers (float), and complex numbers.<br/>\n",
    "**Basic Arithmetic**:\n",
    "Addition (+), Subtraction (-), Multiplication (*), Division (/), Modulus (%), Exponentiation (**), and Floor Division (//).<br/>\n",
    "Examples:\n",
    "```python\n",
    "5 + 3  # Output: 8\n",
    "10 - 4  # Output: 6\n",
    "7 * 2  # Output: 14\n",
    "10 / 2  # Output: 5.0\n",
    "15 % 4  # Output: 3\n",
    "2 ** 3  # Output: 8\n",
    "9 // 2  # Output: 4"
   ]
  },
  {
   "cell_type": "markdown",
   "id": "78bb0674-66df-4814-9e6e-1fc7cd710f08",
   "metadata": {},
   "source": [
    "## 2. Strings\n",
    "**Definition**: Strings are sequences of characters enclosed in single (') or double (\") quotes.<br/>\n",
    "**Immutability**: Strings in Python are immutable, meaning that once created, their contents cannot be altered.<br/>\n",
    "### Indexing & Slicing:\n",
    "Indexing allows access to individual characters using string[index].<br/>\n",
    "Slicing allows access to a substring using string[start:end].<br/>\n",
    "**Methods**: Common string methods include upper(), lower(), replace(), find(), and split().<br/>\n",
    "Examples:\n",
    "```python\n",
    "greeting = \"Hello, World!\"\n",
    "print(greeting[0])  # Output: 'H'\n",
    "print(greeting[7:12])  # Output: 'World'\n",
    "print(greeting.lower())  # Output: 'hello, world!'"
   ]
  },
  {
   "cell_type": "markdown",
   "id": "653604b1-034e-42b0-9241-c16e78ae5fea",
   "metadata": {},
   "source": [
    "# 3. Lists\n",
    "**Definition**: Lists are ordered, mutable collections of items that can be of mixed data types.<br/>\n",
    "**Indexing & Slicing**:\n",
    "Access items using list[index] or slice them with list[start:end].<br/>\n",
    "You can skip elements using list[start:end:step].<br/>\n",
    "**List Methods**:<br/>\n",
    "**append()**: Adds an element to the end of the list.<br/>\n",
    "**insert()**: Inserts an element at a specified index.<br/>\n",
    "**pop()**: Removes and returns the element at a specified index (or the last element if no index is specified).<br/>\n",
    "**sort()**: Sorts the list in place.<br/>\n",
    "**reverse()**: Reverses the order of elements in the list.<br/>\n",
    "**Nesting**: Lists can contain other lists, creating a nested structure.<br/>\n",
    "Examples:\n",
    "```python\n",
    "fruits = [\"apple\", \"banana\", \"cherry\"]\n",
    "fruits.append(\"orange\")  # Output: [\"apple\", \"banana\", \"cherry\", \"orange\"]\n",
    "fruits[1]  # Output: 'banana'\n",
    "nested_list = [[1, 2], [3, 4], [5, 6]]\n",
    "print(nested_list[1][1])  # Output: 4"
   ]
  },
  {
   "cell_type": "markdown",
   "id": "e365773b-0a8e-4250-bf76-6f1bfaaed7e8",
   "metadata": {},
   "source": [
    "# 4. Dictionaries\n",
    "**Definition**: Dictionaries are unordered collections of key-value pairs.<br/>\n",
    "**Accessing Values**: Use dict[key] to access the value associated with a key.<br/>\n",
    "### Dictionary Methods:\n",
    "**eys()**: Returns a view object of all the keys in the dictionary.<br/>\n",
    "**values()**: Returns a view object of all the values in the dictionary.\n",
    "**items()**: Returns a view object of key-value pairs.<br/>\n",
    "**update()**: Updates the dictionary with another dictionary or key-value pairs.<br/>\n",
    "**get()**: Returns the value for a specified key, or None if the key does not exist.<br/>\n",
    "Examples:\n",
    "```python\n",
    "person = {\"name\": \"Alice\", \"age\": 30, \"city\": \"New York\"}\n",
    "print(person[\"name\"])  # Output: 'Alice'\n",
    "person[\"job\"] = \"Engineer\"\n",
    "print(person)  # Output: {'name': 'Alice', 'age': 30, 'city': 'New York', 'job': 'Engineer'}\n"
   ]
  },
  {
   "cell_type": "markdown",
   "id": "824fddaa-d27e-4807-849a-1a67c6670062",
   "metadata": {},
   "source": [
    "# 5. Tuples\n",
    "**Definition**: Tuples are ordered, immutable collections of items.<br/>\n",
    "**Immutability**: Once a tuple is created, its elements cannot be changed or replaced.<br/>\n",
    "**Basic Methods**: count() and index() are the two main methods available for tuples.<br/>\n",
    "Examples:\n",
    "```python\n",
    "my_tuple = (1, 2, 3, 4)\n",
    "print(my_tuple[1])  # Output: 2\n",
    "# my_tuple[0] = 10  # Raises TypeError\n"
   ]
  },
  {
   "cell_type": "markdown",
   "id": "6b4f283a-e1de-4b55-b5ed-be75a39cc677",
   "metadata": {},
   "source": [
    "# 6. Sets\n",
    "**Definition**: Sets are unordered collections of unique elements.<br/>\n",
    "**Operations**:<br/>\n",
    "Union (|), Intersection (&), Difference (-), Symmetric Difference (^).<br/>\n",
    "**Set Methods**:<br/>\n",
    "**add()**: Adds an element to the set.<br/>\n",
    "**remove()**: Removes a specific element from the set.<br/>\n",
    "**union()**, intersection(), difference(): Perform set operations.<br/>\n",
    "Examples:\n",
    "```python\n",
    "set_a = {1, 2, 3}\n",
    "set_b = {3, 4, 5}\n",
    "set_c = set_a.intersection(set_b)  # Output: {3}"
   ]
  },
  {
   "cell_type": "markdown",
   "id": "e0524e5a-dd39-4b98-a3d9-e1239663c9d2",
   "metadata": {},
   "source": [
    "# 7. Booleans\n",
    "**Definition**: Booleans represent True or False.<br/>\n",
    "**Boolean Operators**:<br/>\n",
    "and, or, not: Used to perform logical operations.<br/>\n",
    "Examples:\n",
    "```python\n",
    "(5 > 3) and (2 < 1)  # Output: False\n",
    "not (4 == 4)  # Output: False"
   ]
  },
  {
   "cell_type": "markdown",
   "id": "1a7fe798-6a53-4bbf-ada0-a95c81c97954",
   "metadata": {},
   "source": [
    "# 8. Files\n",
    "**Opening Files**:<br/>\n",
    "Use open(filename, mode) to open a file. Common modes are 'r' (read), 'w' (write), and 'a' (append).<br/>\n",
    "The with statement is used to handle files, ensuring they are properly closed after use.<br/>\n",
    "**Reading and Writing**:\n",
    "read(), readline(), readlines() are used to read from files.<br/>\n",
    "write() is used to write to files.<br/>\n",
    "Examples:\n",
    "```python\n",
    "with open('data.txt', 'r') as file:\n",
    "    content = file.read()\n",
    "    print(content)\n",
    "\n",
    "with open('output.txt', 'w') as file:\n",
    "    file.write(\"Hello, World!\")\n"
   ]
  },
  {
   "cell_type": "markdown",
   "id": "ebd110c0-ea0b-451b-9265-868b11dcc627",
   "metadata": {},
   "source": [
    "## This summary provides a comprehensive overview of Python's basic data structures and their usage."
   ]
  },
  {
   "cell_type": "code",
   "execution_count": null,
   "id": "b5bc6e5e-59be-417e-9937-cd9f6447653f",
   "metadata": {},
   "outputs": [],
   "source": []
  }
 ],
 "metadata": {
  "kernelspec": {
   "display_name": "Python 3 (ipykernel)",
   "language": "python",
   "name": "python3"
  },
  "language_info": {
   "codemirror_mode": {
    "name": "ipython",
    "version": 3
   },
   "file_extension": ".py",
   "mimetype": "text/x-python",
   "name": "python",
   "nbconvert_exporter": "python",
   "pygments_lexer": "ipython3",
   "version": "3.10.12"
  }
 },
 "nbformat": 4,
 "nbformat_minor": 5
}
