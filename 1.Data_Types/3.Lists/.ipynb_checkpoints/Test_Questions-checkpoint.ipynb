{
 "cells": [
  {
   "cell_type": "markdown",
   "id": "8841346c-3e41-46f2-aeaf-30525816faff",
   "metadata": {},
   "source": [
    "## List Practice Questions\n",
    "\n",
    "1. **Creating a List**: How do you create a list with the elements 1, 2, and 3?\n",
    "   ```python\n",
    "   [1, 2, 3]\n"
   ]
  },
  {
   "cell_type": "code",
   "execution_count": null,
   "id": "6d2ce4f3-6307-46c8-a735-fc5ac5f29b0d",
   "metadata": {},
   "outputs": [],
   "source": []
  },
  {
   "cell_type": "markdown",
   "id": "30507381-357e-42f9-8f8b-7ea6a284eaf3",
   "metadata": {},
   "source": [
    "2.**Accessing Elements:** What is the first element of the list \n",
    "```python\n",
    "[10, 20, 30]"
   ]
  },
  {
   "cell_type": "code",
   "execution_count": null,
   "id": "46c1326f-f880-4f16-bf25-a80cfee13b85",
   "metadata": {},
   "outputs": [],
   "source": []
  },
  {
   "cell_type": "markdown",
   "id": "f8356262-3883-46f0-a691-0fea851213c1",
   "metadata": {},
   "source": [
    "3.**Negative Indexing**:What is the last element of the list \n",
    "```python\n",
    "[5, 10, 15]"
   ]
  },
  {
   "cell_type": "code",
   "execution_count": null,
   "id": "60a3116c-7ee6-4196-ba11-1ad601ab3418",
   "metadata": {},
   "outputs": [],
   "source": []
  },
  {
   "cell_type": "markdown",
   "id": "401a1bcb-2459-4e5a-a594-763be841a32c",
   "metadata": {},
   "source": [
    "4.**Slicing a List**:What is the slice from index 1 to 3 of the list\n",
    "```python\n",
    "[0, 1, 2, 3, 4]?"
   ]
  },
  {
   "cell_type": "code",
   "execution_count": null,
   "id": "764a26c9-07a9-4915-9db9-e45425e23720",
   "metadata": {},
   "outputs": [],
   "source": []
  },
  {
   "cell_type": "markdown",
   "id": "be8f76dc-7446-444a-8b5b-6d73f43d38be",
   "metadata": {},
   "source": [
    "5.**Appending to a List**: How do you add the element 4 to the end of the list \n",
    "```python\n",
    "[1, 2, 3]?"
   ]
  },
  {
   "cell_type": "code",
   "execution_count": null,
   "id": "cabb1a8b-b5be-4d60-8ac6-4f0fac0ae458",
   "metadata": {},
   "outputs": [],
   "source": []
  },
  {
   "cell_type": "markdown",
   "id": "93653e76-2cbe-4c42-8a8c-23b7b28f2a36",
   "metadata": {},
   "source": [
    "6.**Inserting into a List**: How do you insert 50 at index 1 in the list \n",
    "```python\n",
    "[10, 20, 30]?"
   ]
  },
  {
   "cell_type": "code",
   "execution_count": null,
   "id": "1a0b734f-be3c-4f69-9a34-39b5f54575ec",
   "metadata": {},
   "outputs": [],
   "source": []
  },
  {
   "cell_type": "markdown",
   "id": "488e7650-8b78-4efd-a0b1-bc33a077af14",
   "metadata": {},
   "source": [
    "7.**Removing an Element**: How do you remove 2 from the list \n",
    "```python\n",
    "[1, 2, 3, 2]?"
   ]
  },
  {
   "cell_type": "code",
   "execution_count": null,
   "id": "1d1c2b41-6cf2-4e51-9bc3-0c886e1fa367",
   "metadata": {},
   "outputs": [],
   "source": []
  },
  {
   "cell_type": "markdown",
   "id": "9b3faa67-7a11-4acb-85b7-c4462bed552c",
   "metadata": {},
   "source": [
    "8.Popping an Element: How do you remove and return the last element of the list \n",
    "```python\n",
    "[10, 20, 30]?"
   ]
  },
  {
   "cell_type": "code",
   "execution_count": null,
   "id": "824146de-b73c-45c7-a425-08256f9184c7",
   "metadata": {},
   "outputs": [],
   "source": []
  },
  {
   "cell_type": "markdown",
   "id": "046e4dc9-9db7-4fd7-a50a-2e8b16e0d8a1",
   "metadata": {},
   "source": [
    "9.**Sorting a List**: How do you sort the list \n",
    "```python\n",
    "[3, 1, 2]?"
   ]
  },
  {
   "cell_type": "code",
   "execution_count": null,
   "id": "70eb3721-5a3e-4efe-9761-7a1b047ff6c5",
   "metadata": {},
   "outputs": [],
   "source": []
  },
  {
   "cell_type": "markdown",
   "id": "9bcb4336-0d85-432c-9046-3261606ddb1d",
   "metadata": {},
   "source": [
    "10.**Reversing a List**: How do you reverse the list \n",
    "```python\n",
    "[1, 2, 3]"
   ]
  },
  {
   "cell_type": "code",
   "execution_count": null,
   "id": "0b4f99ec-d58f-4cee-9d5c-d7795a57940a",
   "metadata": {},
   "outputs": [],
   "source": []
  }
 ],
 "metadata": {
  "kernelspec": {
   "display_name": "Python 3 (ipykernel)",
   "language": "python",
   "name": "python3"
  },
  "language_info": {
   "codemirror_mode": {
    "name": "ipython",
    "version": 3
   },
   "file_extension": ".py",
   "mimetype": "text/x-python",
   "name": "python",
   "nbconvert_exporter": "python",
   "pygments_lexer": "ipython3",
   "version": "3.10.12"
  }
 },
 "nbformat": 4,
 "nbformat_minor": 5
}
