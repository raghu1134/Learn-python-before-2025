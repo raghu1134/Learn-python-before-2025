{
 "cells": [
  {
   "cell_type": "markdown",
   "id": "e5302176-6889-4f2b-9733-78061036d632",
   "metadata": {},
   "source": [
    "# Tuples Quiz\n",
    "\n",
    "### Question 1\n",
    "Q: What is a tuple in Python?"
   ]
  },
  {
   "cell_type": "markdown",
   "id": "723c6cca-94c4-4a62-a029-2ccd72b2865b",
   "metadata": {},
   "source": [
    "A tuple is an ordered, immutable collection of items, defined using parentheses ()."
   ]
  },
  {
   "cell_type": "markdown",
   "id": "921a66fa-4f45-49f4-b58c-30adae308b90",
   "metadata": {},
   "source": [
    "### Question 2\n",
    "Q: How do you create a tuple with a single element?\n"
   ]
  },
  {
   "cell_type": "markdown",
   "id": "dbd4630a-2534-4776-a61c-f2afd3df2c5a",
   "metadata": {},
   "source": [
    "A: Use a trailing comma: single_element = (4,)"
   ]
  },
  {
   "cell_type": "markdown",
   "id": "b2600377-ccc8-4c64-8a7e-34c8a9565c95",
   "metadata": {},
   "source": [
    "### Question 3\n",
    "Q: How do you access the second item in the tuple \n",
    "```python\n",
    "colors = ('red', 'green', 'blue')?"
   ]
  },
  {
   "cell_type": "markdown",
   "id": "2e57fdca-e38d-47c2-8fa7-3abf6bbf5c92",
   "metadata": {},
   "source": [
    "A:\n",
    "```python\n",
    "colors[1] \n",
    "```\n",
    "returns 'green'."
   ]
  },
  {
   "cell_type": "markdown",
   "id": "1dbd7970-c7cd-4bd0-a6c4-d8d220893239",
   "metadata": {},
   "source": [
    "### Question 4\n",
    "Q: Can you change the items in a tuple after it is created?\n",
    "\n"
   ]
  },
  {
   "cell_type": "markdown",
   "id": "312c48c2-45e8-4ac9-a973-71640b3e0ce6",
   "metadata": {},
   "source": [
    "A: No, tuples are immutable.\n"
   ]
  },
  {
   "cell_type": "markdown",
   "id": "513a51ad-bf28-43c9-b150-ba586b615ff2",
   "metadata": {},
   "source": [
    "### Question 5\n",
    "Q: How do you unpack the tuple \n",
    "```python\n",
    " drinks = ('tea', 'coffee') into variables?"
   ]
  },
  {
   "cell_type": "markdown",
   "id": "23027616-ee8d-491e-b658-e8e1495ea6bd",
   "metadata": {},
   "source": [
    "A: \n",
    "```python\n",
    "tea, coffee = drinks"
   ]
  },
  {
   "cell_type": "markdown",
   "id": "eb6e6c6e-b890-40c3-b9af-f0ded60eff46",
   "metadata": {},
   "source": [
    "### Question 6\n",
    "Q: What will len((5, 6, 7)) return?\n",
    "```python\n",
    "len((5, 6, 7))\n",
    "```"
   ]
  },
  {
   "cell_type": "markdown",
   "id": "02eaa00f-3c9d-4e18-bc71-ab3d38a5ed02",
   "metadata": {},
   "source": [
    "A: It returns 3, the number of items in the tuple."
   ]
  },
  {
   "cell_type": "markdown",
   "id": "b9a1ef3e-aafe-457b-afc9-1ec7c8aa8139",
   "metadata": {},
   "source": [
    "### Question 7\n",
    "Q: What method would you use to find the index of 7 in the tuple (5, 6, 7, 8)\n",
    "```python\n",
    "newtuple = (5, 6, 7, 8)                                                         "
   ]
  },
  {
   "cell_type": "markdown",
   "id": "23b0ee3d-2eb1-442b-a680-997af3bd14f7",
   "metadata": {},
   "source": [
    "A: Use index(): \n",
    "```python\n",
    "(5, 6, 7, 8).index(7)."
   ]
  },
  {
   "cell_type": "markdown",
   "id": "96cd76fb-b163-4e6a-9846-c2fcec7452d6",
   "metadata": {},
   "source": [
    "### Question 8\n",
    "Q: How can you concatenate two tuples, (1, 2) and (3, 4)?\n"
   ]
  },
  {
   "cell_type": "markdown",
   "id": "44028c65-e224-4696-823c-4da614c73875",
   "metadata": {},
   "source": [
    "A: Use the `+` operator: \n",
    "```python\n",
    "(1, 2) + (3, 4) \n",
    "```\n",
    "results in \n",
    "```python\n",
    "(1, 2, 3, 4).\n",
    "\n"
   ]
  },
  {
   "cell_type": "markdown",
   "id": "c4171bcc-95d6-4b74-ba98-778b29f36da2",
   "metadata": {},
   "source": [
    "### Question 9\n",
    "Q: What does my_tuple = 1, 2, 3 create?"
   ]
  },
  {
   "cell_type": "markdown",
   "id": "01ee5a5c-0de7-4302-a54f-9a67c8e2166e",
   "metadata": {},
   "source": [
    "A: It creates a \n",
    "```python\n",
    "tuple: (1, 2, 3).\n"
   ]
  },
  {
   "cell_type": "markdown",
   "id": "8b540ae0-60c4-4919-8842-d3e3abadc9ff",
   "metadata": {},
   "source": [
    "### Question 10\n",
    "Q: Can a tuple contain other tuples?\n",
    "\n"
   ]
  },
  {
   "cell_type": "markdown",
   "id": "a743ea59-f0c4-4183-af22-c714cf15fbf3",
   "metadata": {},
   "source": [
    "A: Yes, tuples can be nested, e.g., \n",
    "```python\n",
    "nested = ((1, 2), (3, 4)).\n"
   ]
  }
 ],
 "metadata": {
  "kernelspec": {
   "display_name": "Python 3 (ipykernel)",
   "language": "python",
   "name": "python3"
  },
  "language_info": {
   "codemirror_mode": {
    "name": "ipython",
    "version": 3
   },
   "file_extension": ".py",
   "mimetype": "text/x-python",
   "name": "python",
   "nbconvert_exporter": "python",
   "pygments_lexer": "ipython3",
   "version": "3.10.12"
  }
 },
 "nbformat": 4,
 "nbformat_minor": 5
}
