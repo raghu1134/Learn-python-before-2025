{
 "cells": [
  {
   "cell_type": "markdown",
   "id": "73b0d82f-291a-4d1b-9f37-39cb5ca4d6ef",
   "metadata": {},
   "source": [
    "# Sets in Python\n",
    "## What is a Set?\n",
    "A set is an unordered collection of unique items. Sets are useful for storing elements where duplicates are not allowed.\n",
    "\n",
    "## Creating a Set\n",
    "Sets are created using curly braces {} or the set() function.\n",
    "\n",
    "```python\n",
    "\n",
    "# Creating a set\n",
    "my_set = {1, 2, 3, 4}\n",
    "\n",
    "# Creating a set with the set() function\n",
    "another_set = set([1, 2, 3, 3, 4, 4])\n",
    "print(another_set)  # Output: {1, 2, 3, 4}"
   ]
  },
  {
   "cell_type": "code",
   "execution_count": 2,
   "id": "9cd1a520-07cd-4b7d-8a86-240cfe25570e",
   "metadata": {},
   "outputs": [],
   "source": [
    "#Before running this cell guess the answer and see it yourself.\n",
    "\n",
    "humans={'lilly','zigi','sara','monica'}\n",
    "humans\n",
    "# use the below cell and make your own set and print it."
   ]
  },
  {
   "cell_type": "code",
   "execution_count": null,
   "id": "1cc81c18-e58b-4d7d-90d0-99b05bb6e2fc",
   "metadata": {},
   "outputs": [],
   "source": []
  },
  {
   "cell_type": "code",
   "execution_count": null,
   "id": "c0c57dc6-3bf7-41be-94b6-eebfa5a556f8",
   "metadata": {},
   "outputs": [],
   "source": [
    "#Before running this cell guess the answer and see it yourself.\n",
    "\n",
    "humans=set(['lilly','zigi','sara','monica'])\n",
    "humans\n",
    "\n",
    "# use the below cell and make your own set using set() function and print it."
   ]
  },
  {
   "cell_type": "code",
   "execution_count": null,
   "id": "02a8f1a6-0f60-4e0d-bd92-e71dc0552c91",
   "metadata": {},
   "outputs": [],
   "source": []
  },
  {
   "cell_type": "markdown",
   "id": "fbb1ea41-313d-49a8-a27a-8f5723eea4b5",
   "metadata": {},
   "source": [
    "## Basic Set Operations\n",
    "Add: Add a single element to a set.<br/>\n",
    "Remove: Remove an element from a set.<br/>\n",
    "Union: Combine two sets.<br/>\n",
    "Intersection: Find common elements between sets.<br/>\n",
    "\n",
    "```python\n",
    "Copy code\n",
    "my_set.add(5)  # Adds 5 to the set\n",
    "\n",
    "my_set.remove(3)  # Removes 3 from the set\n",
    "\n",
    "# Union of two sets\n",
    "set1 = {1, 2, 3}\n",
    "set2 = {3, 4, 5}\n",
    "union_set = set1.union(set2)  # Output: {1, 2, 3, 4, 5}\n",
    "\n",
    "# Intersection of two sets ( Common Values)\n",
    "intersection_set = set1.intersection(set2)  # Output: {3}"
   ]
  },
  {
   "cell_type": "markdown",
   "id": "190fc77b-01b8-4869-8abc-142afd07dcc3",
   "metadata": {},
   "source": [
    "## Solve the Below Problems \n",
    "\n",
    "```python\n",
    "humans={'lilly','zigi','sara','monica','new'}\n",
    "```\n",
    "1. use the below cells and answer them \n",
    "add value 'bzsm' to the set.\n",
    "<br/>\n",
    "2. remove the 'new' value from the set.\n",
    "<br/>\n",
    "3. add this below set to the humans set \n",
    "```python\n",
    "newone = {'hi','hello','lilly'}\n",
    "```\n",
    "4. Intersect and find the common values from the set humans and newone."
   ]
  },
  {
   "cell_type": "code",
   "execution_count": 3,
   "id": "7d167135-f057-42e8-bb5a-2645f677ded5",
   "metadata": {},
   "outputs": [],
   "source": [
    "# 1A"
   ]
  },
  {
   "cell_type": "code",
   "execution_count": 4,
   "id": "cd4de8fe-aa83-4e12-8c3a-670c721ddc43",
   "metadata": {},
   "outputs": [],
   "source": [
    "# 2A"
   ]
  },
  {
   "cell_type": "code",
   "execution_count": 5,
   "id": "a2a895b6-0313-449e-950f-9116f240d6bf",
   "metadata": {},
   "outputs": [],
   "source": [
    "# 3A"
   ]
  },
  {
   "cell_type": "code",
   "execution_count": 6,
   "id": "296665b0-eef5-4292-9dab-ec3baeb6b8f4",
   "metadata": {},
   "outputs": [],
   "source": [
    "# 4A"
   ]
  },
  {
   "cell_type": "markdown",
   "id": "ee54d729-9507-4211-87d2-53d43a54d6eb",
   "metadata": {},
   "source": [
    "# Summary of Sets\n",
    "Sets are unordered collections with unique elements.<br/>\n",
    "They are used for operations like union, intersection, and difference."
   ]
  },
  {
   "cell_type": "markdown",
   "id": "a1024e07-26a2-4a8d-bc94-e9b828118e93",
   "metadata": {},
   "source": [
    "# Booleans in Python\n",
    "## What is a Boolean?\n",
    "A boolean represents one of two values: True or False. Booleans are commonly used in conditional statements.\n",
    "\n",
    "## Creating Booleans\n",
    "Booleans are created by using comparison operators or directly assigning True or False.\n",
    "\n",
    "```python\n",
    "Copy code\n",
    "# Direct assignment\n",
    "is_python_fun = True\n",
    "\n",
    "# Comparison operators\n",
    "is_greater = 5 > 3  # Output: True"
   ]
  },
  {
   "cell_type": "code",
   "execution_count": null,
   "id": "65eebe82-bccf-4222-8227-cdef553e290d",
   "metadata": {},
   "outputs": [],
   "source": [
    "# use the cell and make your own boolean problem and print it."
   ]
  },
  {
   "cell_type": "markdown",
   "id": "fce24605-5f81-4a24-ae66-c92cc6d5b14f",
   "metadata": {},
   "source": [
    "# Boolean Operators in Python\n",
    "**and**: Returns True only if both conditions are True.<br/>\n",
    "**or**: Returns True if at least one condition is True.<br/>\n",
    "**not**: Reverses the boolean value of the condition.<br/>\n",
    "## 1. `'and'` Operator\n",
    "The and operator returns True if both conditions are True. Otherwise, it returns False.\n",
    "<br/><br/>\n",
    "### Example 1: Both Conditions True\n",
    "``` python\n",
    "# Both conditions are True\n",
    "print(5 > 3 and 10 > 2)  # Output: True\n",
    "```\n",
    "### Example 2: One Condition False\n",
    "```python\n",
    "# One condition is False\n",
    "print(5 > 3 and 10 < 2)  # Output: False\n",
    "```\n",
    "### Example 3: Both Conditions False\n",
    "```python\n",
    "# Both conditions are False\n",
    "print(5 < 3 and 10 < 2)  # Output: False\n",
    "```"
   ]
  },
  {
   "cell_type": "code",
   "execution_count": 7,
   "id": "8a64ca52-2010-4ce4-ab9c-2605e2cf7c27",
   "metadata": {},
   "outputs": [],
   "source": [
    "# use the cell and create 'and' Operator on both conditions True and solve it."
   ]
  },
  {
   "cell_type": "code",
   "execution_count": 8,
   "id": "e394474c-8978-4f4f-8bb0-5e690d4dadd0",
   "metadata": {},
   "outputs": [],
   "source": [
    "# use the cell and create 'and' Operator on one conditions False and solve it."
   ]
  },
  {
   "cell_type": "code",
   "execution_count": 9,
   "id": "5356b31f-09aa-4c09-8a62-6e59d15af7bb",
   "metadata": {},
   "outputs": [],
   "source": [
    "# use the cell and create 'and' Operator on both conditions False and solve it."
   ]
  },
  {
   "cell_type": "markdown",
   "id": "361595e0-c097-4d8b-ae83-dd761d42d39d",
   "metadata": {},
   "source": [
    "## 2. or Operator\n",
    "The or operator returns True if at least one of the conditions is True. If both are False, it returns False.\n",
    "<br/>\n",
    "<br/>\n",
    "### Example 1: Both Conditions True\n",
    "```python\n",
    "# Both conditions are True\n",
    "print(5 > 3 or 10 > 2)  # Output: True\n",
    "```\n",
    "### Example 2: One Condition True\n",
    "```python\n",
    "# One condition is True\n",
    "print(5 > 3 or 10 < 2)  # Output: True\n",
    "```\n",
    "### Example 3: Both Conditions False\n",
    "```python\n",
    "# Both conditions are False\n",
    "print(5 < 3 or 10 < 2)  # Output: False\n",
    "```"
   ]
  },
  {
   "cell_type": "code",
   "execution_count": 10,
   "id": "72dddc7f-a789-4edc-910a-3023727f165b",
   "metadata": {},
   "outputs": [],
   "source": [
    "# use the cell and create 'or' Operator on both conditions True and solve it."
   ]
  },
  {
   "cell_type": "code",
   "execution_count": 11,
   "id": "8f578d75-b2ad-4756-b5b3-f1eed6af68a3",
   "metadata": {},
   "outputs": [],
   "source": [
    "# use the cell and create 'or' Operator on both conditions True and solve it."
   ]
  },
  {
   "cell_type": "code",
   "execution_count": 13,
   "id": "dc1ec0b4-ca3c-49e9-bdb0-a561e4fb255c",
   "metadata": {},
   "outputs": [],
   "source": [
    "# use the cell and create 'or' Operator on both conditions True and solve it."
   ]
  },
  {
   "cell_type": "markdown",
   "id": "3773bb9b-465f-49b4-8c31-e7f731c9bf51",
   "metadata": {},
   "source": [
    "## 3. not Operator\n",
    "The not operator reverses the boolean value of the condition. If the condition is True, it returns False, and if it’s False, it returns True.\n",
    "<br/>\n",
    "### Example 1: Reversing True\n",
    "```python\n",
    "# Reversing a True condition\n",
    "print(not 5 > 3)  # Output: False\n",
    "```\n",
    "### Example 2: Reversing False\n",
    "```python\n",
    "# Reversing a False condition\n",
    "print(not 5 < 3)  # Output: True\n"
   ]
  },
  {
   "cell_type": "code",
   "execution_count": 15,
   "id": "79866aa2-aca7-4d9f-9cd6-0095f55ef72d",
   "metadata": {},
   "outputs": [],
   "source": [
    "# use the cell and create 'not' Operator on Reversing True."
   ]
  },
  {
   "cell_type": "code",
   "execution_count": null,
   "id": "185bd2d1-4f21-445c-971f-05c417f859c7",
   "metadata": {},
   "outputs": [],
   "source": [
    "# use the cell and create 'not' Operator on Reversing False."
   ]
  },
  {
   "cell_type": "markdown",
   "id": "f891d66c-1419-478b-9c13-509459f547a7",
   "metadata": {},
   "source": [
    "# Files in Python\n",
    "## Working with Files\n",
    "Python allows you to work with files to read, write, and manipulate data."
   ]
  },
  {
   "cell_type": "markdown",
   "id": "24708142-b967-4581-a858-d377e897c902",
   "metadata": {},
   "source": [
    "Creating a file in Python is done using the open() function. If the file does not exist, Python will create it for you when you open it in write ('w') or append ('a') mode. Here’s how you can create a file:\n",
    "\n",
    "## Creating a File\n",
    "To create a file, use the open() function with the desired file name and mode.\n",
    "\n",
    "```python\n",
    "# Create a new file or open an existing file in write mode\n",
    "file = open('newfile.txt', 'w')\n",
    "\n",
    "# Write something to the file\n",
    "file.write('This is a new file created in Python.')\n",
    "\n",
    "# Always close the file after you are done\n",
    "file.close()"
   ]
  },
  {
   "cell_type": "markdown",
   "id": "c8730866-de23-4c6d-9dc7-bc3b3fa71373",
   "metadata": {},
   "source": [
    "## Using the with Statement\n",
    "A safer and more concise way to create and write to a file is by using the with statement, which automatically handles closing the file:\n",
    "\n",
    "```python\n",
    "# Create and write to a new file using 'with'\n",
    "with open('newfile.txt', 'w') as file:\n",
    "    file.write('This file was created using the with statement in Python."
   ]
  },
  {
   "cell_type": "markdown",
   "id": "7f373e18-5e81-4ca4-84a2-c03347eb7454",
   "metadata": {},
   "source": [
    "**open()** function: Used to create or open a file.<br/>\n",
    "**Modes**:<br/>\n",
    "`'w'`: Write mode, creates a new file or overwrites an existing one.<br/>\n",
    "`'a'`: Append mode, creates a new file or adds to an existing one.<br/>\n",
    "**with** statement: Automatically closes the file after writing.<br/>"
   ]
  },
  {
   "cell_type": "code",
   "execution_count": 17,
   "id": "dd296e3f-be9b-4eb5-9db7-3e54c7ab5627",
   "metadata": {},
   "outputs": [],
   "source": [
    "# Use this below cell and create a File and give the writing permission to this "
   ]
  },
  {
   "cell_type": "code",
   "execution_count": null,
   "id": "a5c76eee-e0ce-4df6-8daf-483c1d4201b8",
   "metadata": {},
   "outputs": [],
   "source": []
  },
  {
   "cell_type": "markdown",
   "id": "c924e714-026d-45bd-b29c-a922c4fd9220",
   "metadata": {},
   "source": [
    "## Opening and Closing Files\n",
    "Use the open() function to open a file. Always close the file after using it.\n",
    "\n",
    "```python\n",
    "|# Opening a file\n",
    "file = open('example.txt', 'r')  # 'r' mode is for reading\n",
    "\n",
    "# Closing a file\n",
    "file.close()"
   ]
  },
  {
   "cell_type": "code",
   "execution_count": 19,
   "id": "ba8e5cdc-5649-4d5b-8f88-9d1af5767356",
   "metadata": {},
   "outputs": [],
   "source": [
    "# Close the opened file above which you created ."
   ]
  },
  {
   "cell_type": "code",
   "execution_count": 20,
   "id": "f1f9969f-6c59-4ee1-870d-b18b7d1e15e4",
   "metadata": {},
   "outputs": [],
   "source": [
    "# Open the Closed file."
   ]
  },
  {
   "cell_type": "markdown",
   "id": "0da21d9c-0562-4cca-b555-39fdaf87e72b",
   "metadata": {},
   "source": [
    "## Reading Files\n",
    "You can read the contents of a file using methods like read(), readline(), or readlines().\n",
    "\n",
    "```python\n",
    "# Reading the entire file\n",
    "file = open('example.txt', 'r')\n",
    "content = file.read()\n",
    "print(content)\n",
    "file.close()\n"
   ]
  },
  {
   "cell_type": "code",
   "execution_count": 21,
   "id": "dc879cda-502a-4b2f-be9f-9b9319030b56",
   "metadata": {},
   "outputs": [],
   "source": [
    "# Use this cell and create a new file and read it and close it back."
   ]
  },
  {
   "cell_type": "markdown",
   "id": "65158b6e-9408-4e45-ad39-862eee5c35d0",
   "metadata": {},
   "source": [
    "## Writing to Files\n",
    "Use the write() or writelines() method to write data to a file. Be cautious, as writing in 'w' mode will overwrite the file.\n",
    "\n",
    "```python\n",
    "\n",
    "# Writing to a file\n",
    "file = open('example.txt', 'w')\n",
    "file.write('Hello, World!')\n",
    "file.close()\n",
    "\n",
    "# Appending to a file\n",
    "file = open('example.txt', 'a')\n",
    "file.write('\\nAppending a new line.')\n",
    "file.close()"
   ]
  },
  {
   "cell_type": "code",
   "execution_count": 22,
   "id": "bea1b52f-6469-429f-aabb-ea8b0e30cb6f",
   "metadata": {},
   "outputs": [],
   "source": [
    "# use this cell and create file and write it."
   ]
  },
  {
   "cell_type": "code",
   "execution_count": 23,
   "id": "25e6ac8e-5766-45ae-99da-4eb3add63721",
   "metadata": {},
   "outputs": [],
   "source": [
    "# use this cell and append a line to the created one."
   ]
  }
 ],
 "metadata": {
  "kernelspec": {
   "display_name": "Python 3 (ipykernel)",
   "language": "python",
   "name": "python3"
  },
  "language_info": {
   "codemirror_mode": {
    "name": "ipython",
    "version": 3
   },
   "file_extension": ".py",
   "mimetype": "text/x-python",
   "name": "python",
   "nbconvert_exporter": "python",
   "pygments_lexer": "ipython3",
   "version": "3.12.4"
  }
 },
 "nbformat": 4,
 "nbformat_minor": 5
}
