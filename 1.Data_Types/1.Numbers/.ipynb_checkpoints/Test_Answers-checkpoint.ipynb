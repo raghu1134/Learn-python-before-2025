{
 "cells": [
  {
   "cell_type": "markdown",
   "id": "d73dc44c-fe79-49ff-9aa9-d7e044c1f680",
   "metadata": {},
   "source": [
    "# Number and Floating Point Practice Questions\n",
    "\n",
    "### 1. **Addition**: What is the result of \n",
    "   ```python\n",
    "   15 + 7\n"
   ]
  },
  {
   "cell_type": "code",
   "execution_count": 4,
   "id": "6e042c63-b1dd-4afb-893a-781a56fb83bf",
   "metadata": {},
   "outputs": [
    {
     "data": {
      "text/plain": [
       "22"
      ]
     },
     "execution_count": 4,
     "metadata": {},
     "output_type": "execute_result"
    }
   ],
   "source": [
    "15 + 7  # Output: 22"
   ]
  },
  {
   "cell_type": "markdown",
   "id": "ed0885b2-ba99-49f5-92c8-a83e7324a9fc",
   "metadata": {},
   "source": [
    "\n",
    "### 2. **Subtraction**: What is the result of \n",
    "   ```python\n",
    "   25.5 - 12.3\n",
    "\n"
   ]
  },
  {
   "cell_type": "code",
   "execution_count": 5,
   "id": "1d685d62-f53f-4220-bba0-383af99117b1",
   "metadata": {},
   "outputs": [
    {
     "data": {
      "text/plain": [
       "13.2"
      ]
     },
     "execution_count": 5,
     "metadata": {},
     "output_type": "execute_result"
    }
   ],
   "source": [
    "25.5 - 12.3  # Output: 13.2"
   ]
  },
  {
   "cell_type": "markdown",
   "id": "5b9cda63-0cf1-4eea-9a01-f0a4cd205bc5",
   "metadata": {},
   "source": [
    "\n",
    "### 3. **Multiplication**: What is the result of \n",
    "   ```python\n",
    "   9 * 3.5\n",
    "\n"
   ]
  },
  {
   "cell_type": "code",
   "execution_count": 6,
   "id": "977bcfb7-0576-4a11-9dbd-0d18951aa950",
   "metadata": {},
   "outputs": [
    {
     "data": {
      "text/plain": [
       "31.5"
      ]
     },
     "execution_count": 6,
     "metadata": {},
     "output_type": "execute_result"
    }
   ],
   "source": [
    "9 * 3.5  # Output: 31.5"
   ]
  },
  {
   "cell_type": "markdown",
   "id": "2456bcd0-a8b9-469b-a685-eb901be7e494",
   "metadata": {},
   "source": [
    "\n",
    "### 4. **Division**: What is the result of \n",
    "   ```python\n",
    "    44 / 8\n"
   ]
  },
  {
   "cell_type": "code",
   "execution_count": 7,
   "id": "016ed5c8-a824-4130-a7c3-67ec2843bd05",
   "metadata": {},
   "outputs": [
    {
     "data": {
      "text/plain": [
       "5.5"
      ]
     },
     "execution_count": 7,
     "metadata": {},
     "output_type": "execute_result"
    }
   ],
   "source": [
    "44 / 8  # Output: 5.5"
   ]
  },
  {
   "cell_type": "markdown",
   "id": "e4ae3cac-8ff3-4f52-ae96-ea65ceafaae8",
   "metadata": {},
   "source": [
    "\n",
    "### 5. **Floor Division**: What is the result of \n",
    "   ```python\n",
    "    44 // 8\n"
   ]
  },
  {
   "cell_type": "code",
   "execution_count": 8,
   "id": "70176f1f-bd8e-4734-b981-198c771cc91c",
   "metadata": {},
   "outputs": [
    {
     "data": {
      "text/plain": [
       "5"
      ]
     },
     "execution_count": 8,
     "metadata": {},
     "output_type": "execute_result"
    }
   ],
   "source": [
    "44 // 8  # Output: 5"
   ]
  },
  {
   "cell_type": "markdown",
   "id": "9d757d45-42a0-4407-a3e9-2064c6d75248",
   "metadata": {},
   "source": [
    "\n",
    "### 6. **Modulus**: What is the result of \n",
    "   ```python\n",
    "    17 % 5\n"
   ]
  },
  {
   "cell_type": "code",
   "execution_count": 10,
   "id": "d349ef3c-b9aa-48fc-ba88-9881cb7cd757",
   "metadata": {},
   "outputs": [
    {
     "data": {
      "text/plain": [
       "2"
      ]
     },
     "execution_count": 10,
     "metadata": {},
     "output_type": "execute_result"
    }
   ],
   "source": [
    "17 % 5  # Output: 2"
   ]
  },
  {
   "cell_type": "markdown",
   "id": "f35eb2ca-5308-4bb3-bc19-9b8dd3550b6a",
   "metadata": {},
   "source": [
    "\n",
    "### 7. **Exponentiation**: What is the result of \n",
    "   ```python\n",
    "    2 ** 4\n"
   ]
  },
  {
   "cell_type": "code",
   "execution_count": 11,
   "id": "f63ac607-fbb3-4e28-a1cb-1f06f6cc7bd4",
   "metadata": {},
   "outputs": [
    {
     "data": {
      "text/plain": [
       "16"
      ]
     },
     "execution_count": 11,
     "metadata": {},
     "output_type": "execute_result"
    }
   ],
   "source": [
    "2 ** 4  # Output: 16"
   ]
  },
  {
   "cell_type": "markdown",
   "id": "157518bc-6ae9-49cb-a641-cd4c48d66dd5",
   "metadata": {},
   "source": [
    "\n",
    "### 8. **Mixed Operation**: What is the result of \n",
    "   ```python\n",
    "    3 + 2 * 5\n",
    "\n"
   ]
  },
  {
   "cell_type": "code",
   "execution_count": 12,
   "id": "82562366-483c-4576-8687-d1161d5c10dc",
   "metadata": {},
   "outputs": [
    {
     "data": {
      "text/plain": [
       "13"
      ]
     },
     "execution_count": 12,
     "metadata": {},
     "output_type": "execute_result"
    }
   ],
   "source": [
    "3 + 2 * 5  # Output: 13"
   ]
  },
  {
   "cell_type": "markdown",
   "id": "754edfd9-79db-4c74-80cf-ab1260793673",
   "metadata": {},
   "source": [
    "\n",
    "### 9. **Floating Point Division**: What is the result of \n",
    "   ```python\n",
    "    5.0 / 2\n",
    "\n"
   ]
  },
  {
   "cell_type": "code",
   "execution_count": 13,
   "id": "7f1bbd99-ab74-439b-b46d-81229f2e37c4",
   "metadata": {},
   "outputs": [
    {
     "data": {
      "text/plain": [
       "2.5"
      ]
     },
     "execution_count": 13,
     "metadata": {},
     "output_type": "execute_result"
    }
   ],
   "source": [
    "5.0 / 2  # Output: 2.5"
   ]
  },
  {
   "cell_type": "markdown",
   "id": "c0deefe3-89e9-4a9c-9ec8-655bb20d754b",
   "metadata": {},
   "source": [
    "\n",
    "### 10. **Rounded Result**: What is the result of \n",
    "   ```python\n",
    "    round(7.7)\n"
   ]
  },
  {
   "cell_type": "code",
   "execution_count": 14,
   "id": "471aedb4-8e13-47da-b2ce-bf9fce6332b1",
   "metadata": {},
   "outputs": [
    {
     "data": {
      "text/plain": [
       "8"
      ]
     },
     "execution_count": 14,
     "metadata": {},
     "output_type": "execute_result"
    }
   ],
   "source": [
    "round(7.7)  # Output: 8"
   ]
  },
  {
   "cell_type": "code",
   "execution_count": null,
   "id": "9a18ae04-89fb-4da3-a1cb-855e2d917f96",
   "metadata": {},
   "outputs": [],
   "source": []
  }
 ],
 "metadata": {
  "kernelspec": {
   "display_name": "Python 3 (ipykernel)",
   "language": "python",
   "name": "python3"
  },
  "language_info": {
   "codemirror_mode": {
    "name": "ipython",
    "version": 3
   },
   "file_extension": ".py",
   "mimetype": "text/x-python",
   "name": "python",
   "nbconvert_exporter": "python",
   "pygments_lexer": "ipython3",
   "version": "3.10.12"
  }
 },
 "nbformat": 4,
 "nbformat_minor": 5
}
