{
 "cells": [
  {
   "cell_type": "markdown",
   "id": "ad641fb2-131e-43c4-9158-bb81ab08f1ba",
   "metadata": {},
   "source": [
    "# Dictionaries in Python\n",
    "Dictionaries are data structures that store key-value pairs. They are mutable, meaning you can change their contents.also supports all kind of data-types\n",
    "\n",
    "## 1. Creating a Dictionary\n",
    "Dictionaries use curly braces `{}` with key-value pairs separated by colons :.\n",
    "\n",
    "```python\n",
    "\n",
    "# Creating a dictionary\n",
    "person = {\"name\": \"Alice\",\"age\": 30,\"city\": \"New York\"}\n",
    "```\n",
    "\n",
    "here we created a person as a Dictionary <br/>\n",
    "### Syntax goes like this \n",
    "\"key\":\"Value_Pairs\" <br/>\n",
    "Here \"name\" - is a Key and \"Alice\" - is a pair value\n",
    "\n"
   ]
  },
  {
   "cell_type": "code",
   "execution_count": 9,
   "id": "a6f5151a-da0a-485c-9533-bd47248ca687",
   "metadata": {},
   "outputs": [],
   "source": [
    "# Before running this cell guess the answer and see it yourself.\n",
    "\n",
    "#As we mentiond that we can use all kind of data types , now we using that.\n",
    "\n",
    "human= {'name':'Lilly','age':00,'fav_planets':['earth','mars','pluto'],'fav_num':34.34}\n",
    "print(human)\n",
    "# here we used string,integer,list and floating values\n",
    "\n",
    "# use the below cell and make your own dictionary and print it."
   ]
  },
  {
   "cell_type": "code",
   "execution_count": null,
   "id": "4be3ddd9-1190-4d10-9d0c-b78d7a690814",
   "metadata": {},
   "outputs": [],
   "source": []
  },
  {
   "cell_type": "markdown",
   "id": "53eb223e-2327-4541-a3ad-a1df7a343f78",
   "metadata": {},
   "source": [
    "## 2. Accessing Values\n",
    "Access values using keys in square brackets or the get() method.\n",
    "\n",
    "```python\n",
    "# Creating a dictionary\n",
    "person = {\"name\": \"Alice\",\"age\": 30,\"city\": \"New York\"}\n",
    "\n",
    "# Using square brackets\n",
    "print(person[\"name\"])  # Output: 'Alice'\n",
    "\n",
    "# Using get() method\n",
    "print(person.get(\"age\"))  # Output: 30"
   ]
  },
  {
   "cell_type": "code",
   "execution_count": 7,
   "id": "c58422cf-3c38-4453-8c66-3b86148b93e9",
   "metadata": {},
   "outputs": [],
   "source": [
    "# Before running this cell guess the answer and see it yourself.\n",
    "\n",
    "\n",
    "human= {'name':'Lilly','age':00,'fav_planets':['earth','mars','pluto'],'fav_num':34.34}\n",
    "print(human['fav_num'])\n",
    "print(human.get('name'))\n",
    "human['age']\n",
    "human['fav_planets']\n",
    "\n",
    "# use the below cell and make your own dictionary and print it."
   ]
  },
  {
   "cell_type": "code",
   "execution_count": null,
   "id": "33b6dea4-7820-46d0-a4cc-55f735e79b8d",
   "metadata": {},
   "outputs": [],
   "source": []
  },
  {
   "cell_type": "markdown",
   "id": "db934d72-973d-485e-abf7-056ef0a661ca",
   "metadata": {},
   "source": [
    "## Accessing values Using Indexing\n",
    "\n",
    "Access values using index values.\n",
    "\n",
    "```python\n",
    "# Creating a dictionary\n",
    "person = {\"name\": [\"Alice\",'Sam'],\"age\": 30,\"city\": [\"New York\",\"USA\"]}\n",
    "\n",
    "#Accessing the value of a list using indexing\n",
    "print(person[\"city\"][1])  #output USA\n",
    "print(person['name'][1]) # output SAM"
   ]
  },
  {
   "cell_type": "code",
   "execution_count": null,
   "id": "0340ca92-db74-47d0-8afa-956f5e454c58",
   "metadata": {},
   "outputs": [],
   "source": [
    "# Before running this cell guess the answer and see it yourself.\n",
    "\n",
    "\n",
    "human= {'name':'Lilly','age':[00,34],'fav_planets':['earth','mars','pluto'],'fav_num':34.34}\n",
    "print(human['age'][1])\n",
    "print(human['fav_planets'][0])\n",
    "print(human['fav_planets'][0][1])\n",
    "\n",
    "# use the below cell and make your own dictionary and print it."
   ]
  },
  {
   "cell_type": "code",
   "execution_count": null,
   "id": "4eb9b268-70a2-430d-a4d4-ae8f8ab7cb23",
   "metadata": {},
   "outputs": [],
   "source": []
  },
  {
   "cell_type": "code",
   "execution_count": null,
   "id": "e505b89e-c1ca-4c52-af9c-6e9cc30df4d6",
   "metadata": {},
   "outputs": [],
   "source": []
  }
 ],
 "metadata": {
  "kernelspec": {
   "display_name": "Python 3 (ipykernel)",
   "language": "python",
   "name": "python3"
  },
  "language_info": {
   "codemirror_mode": {
    "name": "ipython",
    "version": 3
   },
   "file_extension": ".py",
   "mimetype": "text/x-python",
   "name": "python",
   "nbconvert_exporter": "python",
   "pygments_lexer": "ipython3",
   "version": "3.10.12"
  }
 },
 "nbformat": 4,
 "nbformat_minor": 5
}
