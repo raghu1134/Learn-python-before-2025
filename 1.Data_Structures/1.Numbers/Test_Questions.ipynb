{
 "cells": [
  {
   "cell_type": "markdown",
   "id": "d73dc44c-fe79-49ff-9aa9-d7e044c1f680",
   "metadata": {},
   "source": [
    "# Number and Floating Point Practice Questions\n",
    "\n",
    "### 1. **Addition**: What is the result of \n",
    "   ```python\n",
    "   15 + 7\n"
   ]
  },
  {
   "cell_type": "code",
   "execution_count": null,
   "id": "6e042c63-b1dd-4afb-893a-781a56fb83bf",
   "metadata": {},
   "outputs": [],
   "source": []
  },
  {
   "cell_type": "markdown",
   "id": "ed0885b2-ba99-49f5-92c8-a83e7324a9fc",
   "metadata": {},
   "source": [
    "\n",
    "### 2. **Subtraction**: What is the result of \n",
    "   ```python\n",
    "   25.5 - 12.3\n",
    "\n"
   ]
  },
  {
   "cell_type": "code",
   "execution_count": null,
   "id": "1d685d62-f53f-4220-bba0-383af99117b1",
   "metadata": {},
   "outputs": [],
   "source": []
  },
  {
   "cell_type": "markdown",
   "id": "5b9cda63-0cf1-4eea-9a01-f0a4cd205bc5",
   "metadata": {},
   "source": [
    "\n",
    "### 3. **Multiplication**: What is the result of \n",
    "   ```python\n",
    "   9 * 3.5\n",
    "\n"
   ]
  },
  {
   "cell_type": "code",
   "execution_count": null,
   "id": "977bcfb7-0576-4a11-9dbd-0d18951aa950",
   "metadata": {},
   "outputs": [],
   "source": []
  },
  {
   "cell_type": "markdown",
   "id": "2456bcd0-a8b9-469b-a685-eb901be7e494",
   "metadata": {},
   "source": [
    "\n",
    "### 4. **Division**: What is the result of \n",
    "   ```python\n",
    "    44 / 8\n"
   ]
  },
  {
   "cell_type": "code",
   "execution_count": null,
   "id": "016ed5c8-a824-4130-a7c3-67ec2843bd05",
   "metadata": {},
   "outputs": [],
   "source": []
  },
  {
   "cell_type": "markdown",
   "id": "e4ae3cac-8ff3-4f52-ae96-ea65ceafaae8",
   "metadata": {},
   "source": [
    "\n",
    "### 5. **Floor Division**: What is the result of \n",
    "   ```python\n",
    "    44 // 8\n"
   ]
  },
  {
   "cell_type": "code",
   "execution_count": null,
   "id": "70176f1f-bd8e-4734-b981-198c771cc91c",
   "metadata": {},
   "outputs": [],
   "source": []
  },
  {
   "cell_type": "markdown",
   "id": "9d757d45-42a0-4407-a3e9-2064c6d75248",
   "metadata": {},
   "source": [
    "\n",
    "### 6. **Modulus**: What is the result of \n",
    "   ```python\n",
    "    17 % 5\n"
   ]
  },
  {
   "cell_type": "code",
   "execution_count": null,
   "id": "d349ef3c-b9aa-48fc-ba88-9881cb7cd757",
   "metadata": {},
   "outputs": [],
   "source": []
  },
  {
   "cell_type": "markdown",
   "id": "f35eb2ca-5308-4bb3-bc19-9b8dd3550b6a",
   "metadata": {},
   "source": [
    "\n",
    "### 7. **Exponentiation**: What is the result of \n",
    "   ```python\n",
    "    2 ** 4\n"
   ]
  },
  {
   "cell_type": "code",
   "execution_count": null,
   "id": "f63ac607-fbb3-4e28-a1cb-1f06f6cc7bd4",
   "metadata": {},
   "outputs": [],
   "source": []
  },
  {
   "cell_type": "markdown",
   "id": "157518bc-6ae9-49cb-a641-cd4c48d66dd5",
   "metadata": {},
   "source": [
    "\n",
    "### 8. **Mixed Operation**: What is the result of \n",
    "   ```python\n",
    "    3 + 2 * 5\n",
    "\n"
   ]
  },
  {
   "cell_type": "code",
   "execution_count": null,
   "id": "82562366-483c-4576-8687-d1161d5c10dc",
   "metadata": {},
   "outputs": [],
   "source": []
  },
  {
   "cell_type": "markdown",
   "id": "754edfd9-79db-4c74-80cf-ab1260793673",
   "metadata": {},
   "source": [
    "\n",
    "### 9. **Floating Point Division**: What is the result of \n",
    "   ```python\n",
    "    5.0 / 2\n",
    "\n"
   ]
  },
  {
   "cell_type": "code",
   "execution_count": null,
   "id": "7f1bbd99-ab74-439b-b46d-81229f2e37c4",
   "metadata": {},
   "outputs": [],
   "source": []
  },
  {
   "cell_type": "markdown",
   "id": "c0deefe3-89e9-4a9c-9ec8-655bb20d754b",
   "metadata": {},
   "source": [
    "\n",
    "### 10. **Rounded Result**: What is the result of \n",
    "   ```python\n",
    "    round(7.7)\n"
   ]
  },
  {
   "cell_type": "code",
   "execution_count": null,
   "id": "471aedb4-8e13-47da-b2ce-bf9fce6332b1",
   "metadata": {},
   "outputs": [],
   "source": []
  }
 ],
 "metadata": {
  "kernelspec": {
   "display_name": "Python 3 (ipykernel)",
   "language": "python",
   "name": "python3"
  },
  "language_info": {
   "codemirror_mode": {
    "name": "ipython",
    "version": 3
   },
   "file_extension": ".py",
   "mimetype": "text/x-python",
   "name": "python",
   "nbconvert_exporter": "python",
   "pygments_lexer": "ipython3",
   "version": "3.10.12"
  }
 },
 "nbformat": 4,
 "nbformat_minor": 5
}
