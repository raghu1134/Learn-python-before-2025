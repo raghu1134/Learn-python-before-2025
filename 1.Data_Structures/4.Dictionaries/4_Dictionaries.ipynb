{
 "cells": [
  {
   "cell_type": "markdown",
   "id": "ad641fb2-131e-43c4-9158-bb81ab08f1ba",
   "metadata": {},
   "source": [
    "# Dictionaries in Python\n",
    "Dictionaries are data structures that store key-value pairs. They are mutable, meaning you can change their contents.also supports all kind of data-types\n",
    "\n",
    "## 1. Creating a Dictionary\n",
    "Dictionaries use curly braces `{}` with key-value pairs separated by colons :.\n",
    "\n",
    "```python\n",
    "\n",
    "# Creating a dictionary\n",
    "person = {\"name\": \"Alice\",\"age\": 30,\"city\": \"New York\"}\n",
    "```\n",
    "\n",
    "here we created a person as a Dictionary <br/>\n",
    "### Syntax goes like this \n",
    "\"key\":\"Value_Pairs\" <br/>\n",
    "Here \"name\" - is a Key and \"Alice\" - is a pair value\n",
    "\n"
   ]
  },
  {
   "cell_type": "code",
   "execution_count": 9,
   "id": "a6f5151a-da0a-485c-9533-bd47248ca687",
   "metadata": {},
   "outputs": [],
   "source": [
    "# Before running this cell guess the answer and see it yourself.\n",
    "\n",
    "#As we mentiond that we can use all kind of data types , now we using that.\n",
    "\n",
    "human= {'name':'Lilly','age':00,'fav_planets':['earth','mars','pluto'],'fav_num':34.34}\n",
    "print(human)\n",
    "# here we used string,integer,list and floating values\n",
    "\n",
    "# use the below cell and make your own dictionary and print it."
   ]
  },
  {
   "cell_type": "code",
   "execution_count": null,
   "id": "4be3ddd9-1190-4d10-9d0c-b78d7a690814",
   "metadata": {},
   "outputs": [],
   "source": []
  },
  {
   "cell_type": "markdown",
   "id": "53eb223e-2327-4541-a3ad-a1df7a343f78",
   "metadata": {},
   "source": [
    "## 2. Accessing Values\n",
    "Access values using keys in square brackets or the get() method.\n",
    "\n",
    "```python\n",
    "# Creating a dictionary\n",
    "person = {\"name\": \"Alice\",\"age\": 30,\"city\": \"New York\"}\n",
    "\n",
    "# Using square brackets\n",
    "print(person[\"name\"])  # Output: 'Alice'\n",
    "\n",
    "# Using get() method\n",
    "print(person.get(\"age\"))  # Output: 30"
   ]
  },
  {
   "cell_type": "code",
   "execution_count": 7,
   "id": "c58422cf-3c38-4453-8c66-3b86148b93e9",
   "metadata": {},
   "outputs": [],
   "source": [
    "# Before running this cell guess the answer and see it yourself.\n",
    "\n",
    "\n",
    "human= {'name':'Lilly','age':00,'fav_planets':['earth','mars','pluto'],'fav_num':34.34}\n",
    "print(human['fav_num'])\n",
    "print(human.get('name'))\n",
    "human['age']\n",
    "human['fav_planets']\n",
    "\n",
    "# use the below cell and make your own dictionary and start accessing the values."
   ]
  },
  {
   "cell_type": "code",
   "execution_count": null,
   "id": "33b6dea4-7820-46d0-a4cc-55f735e79b8d",
   "metadata": {},
   "outputs": [],
   "source": []
  },
  {
   "cell_type": "markdown",
   "id": "db934d72-973d-485e-abf7-056ef0a661ca",
   "metadata": {},
   "source": [
    "## Accessing values Using Indexing\n",
    "\n",
    "Access values using index values.\n",
    "\n",
    "```python\n",
    "# Creating a dictionary\n",
    "person = {\"name\": [\"Alice\",'Sam'],\"age\": 30,\"city\": [\"New York\",\"USA\"]}\n",
    "\n",
    "#Accessing the value of a list using indexing\n",
    "print(person[\"city\"][1])  #output USA\n",
    "print(person['name'][1]) # output SAM"
   ]
  },
  {
   "cell_type": "code",
   "execution_count": null,
   "id": "0340ca92-db74-47d0-8afa-956f5e454c58",
   "metadata": {},
   "outputs": [],
   "source": [
    "# Before running this cell guess the answer and see it yourself.\n",
    "\n",
    "\n",
    "human= {'name':'Lilly','age':[00,34],'fav_planets':['earth','mars','pluto'],'fav_num':34.34}\n",
    "print(human['age'][1])\n",
    "print(human['fav_planets'][0])\n",
    "print(human['fav_planets'][0][1])\n",
    "\n",
    "# use the below cell and make your own dictionary and start accessing values using indexing."
   ]
  },
  {
   "cell_type": "code",
   "execution_count": null,
   "id": "4eb9b268-70a2-430d-a4d4-ae8f8ab7cb23",
   "metadata": {},
   "outputs": [],
   "source": []
  },
  {
   "cell_type": "markdown",
   "id": "16839506-9725-458f-a4f4-c2cf748d96b7",
   "metadata": {},
   "source": [
    "## 3. Nesting Dictionaries\n",
    "You can nest dictionaries within dictionaries to create complex structures.\n",
    "\n",
    "```python\n",
    "# Nested dictionary\n",
    "students = {\n",
    "    \"student1\": {\"name\": \"Alice\", \"age\": 24},\n",
    "    \"student2\": {\"name\": \"Bob\", \"age\": 22}\n",
    "}\n",
    "```\n",
    "## Accessing nested dictionary\n",
    "```python\n",
    "print(students[\"student1\"][\"name\"])  # Output: 'Alice'\n",
    "# Get Bob's age\n",
    "print(students[\"student2\"][\"age\"])  # Output: 22"
   ]
  },
  {
   "cell_type": "code",
   "execution_count": 20,
   "id": "78d0311b-9920-4f87-ab63-58ee2c98c930",
   "metadata": {},
   "outputs": [],
   "source": [
    "# Before running this cell guess the answer and see it yourself.\n",
    "\n",
    "\n",
    "human= {\n",
    "    'person1':{\"name\":'Lilly',\"Course\":'Computers'},\n",
    "    'person2':{'name':'Raghu',\"Course\":\"Cyber_security\"}\n",
    "}\n",
    "print(human['person1']['name'])\n",
    "print(human['person2']['Course'])\n",
    "\n",
    "# use the below cell and make your own nested dictionary and access it."
   ]
  },
  {
   "cell_type": "code",
   "execution_count": null,
   "id": "71033d6e-4e11-41d7-8757-59f4eedafd6b",
   "metadata": {},
   "outputs": [],
   "source": []
  },
  {
   "cell_type": "markdown",
   "id": "77a3ac61-2e1a-4f7e-a1f8-2b209db4a7f9",
   "metadata": {},
   "source": [
    "# 4.Dictionary Methods in Python\n",
    "Dictionaries in Python are versatile collections that store data in key-value pairs. Here’s an overview of common methods you can use to manipulate dictionaries:\n",
    "\n",
    "## keys() <br/>\n",
    "Returns a view object displaying a list of all keys in the dictionary.\n",
    "\n",
    "```python\n",
    "person = {\"name\": \"Alice\", \"age\": 30}\n",
    "print(person.keys())  # Output: dict_keys(['name', 'age'])"
   ]
  },
  {
   "cell_type": "code",
   "execution_count": 23,
   "id": "0b9bc5a3-be32-43db-b423-2d2a98067a73",
   "metadata": {},
   "outputs": [],
   "source": [
    "# Before running this cell guess the answer and see it yourself.\n",
    "\n",
    "human= {\n",
    "    'person1':{\"name\":'Lilly',\"Course\":'Computers'},\n",
    "    'person2':{'name':'Raghu',\"Course\":\"Cyber_security\"}\n",
    "}\n",
    "print(human.keys())\n",
    "print(human['person1'].keys())\n",
    "\n",
    "# use the below cell and make your own dictionary and start using .keys()"
   ]
  },
  {
   "cell_type": "code",
   "execution_count": null,
   "id": "0e2b6728-4c7c-4810-aba5-4e4d522dd110",
   "metadata": {},
   "outputs": [],
   "source": []
  },
  {
   "cell_type": "markdown",
   "id": "452d4610-19c6-4e11-8002-b82e01903874",
   "metadata": {},
   "source": [
    " ## values()\n",
    "Returns a view object displaying a list of all values in the dictionary.\n",
    "\n",
    "```python\n",
    "person = {\"name\": \"Alice\", \"age\": 30}\n",
    "print(person.values())  # Output: dict_values(['Alice', 30])"
   ]
  },
  {
   "cell_type": "code",
   "execution_count": 26,
   "id": "c81e55a2-1c02-46d1-8246-7f201d9aacea",
   "metadata": {},
   "outputs": [],
   "source": [
    "# Before running this cell guess the answer and see it yourself.\n",
    "\n",
    "human= {\n",
    "    'person1':{\"name\":'Lilly',\"Course\":'Computers'},\n",
    "    'person2':{'name':'Raghu',\"Course\":\"Cyber_security\"}\n",
    "}\n",
    "print(human.values())\n",
    "print(human['person1'].values())\n",
    "print(human['person2'].values())\n",
    "\n",
    "# use the below cell and make your own dictionary and start using .values()"
   ]
  },
  {
   "cell_type": "code",
   "execution_count": null,
   "id": "a48bf217-6190-484f-9381-0ff3608bf452",
   "metadata": {},
   "outputs": [],
   "source": []
  },
  {
   "cell_type": "markdown",
   "id": "8367b022-1aae-4f3f-95aa-3dc6c0fbc9fd",
   "metadata": {},
   "source": [
    "## items()\n",
    "Returns a view object displaying a list of dictionary's key-value tuple pairs.\n",
    "\n",
    "```python\n",
    "person = {\"name\": \"Alice\", \"age\": 30}\n",
    "print(person.items())  # Output: dict_items([('name', 'Alice'), ('age', 30)])"
   ]
  },
  {
   "cell_type": "code",
   "execution_count": null,
   "id": "916378e8-3327-4c75-a658-8a8a523a1b2f",
   "metadata": {},
   "outputs": [],
   "source": [
    "# Before running this cell guess the answer and see it yourself.\n",
    "\n",
    "human= {\n",
    "    'person1':{\"name\":'Lilly',\"Course\":'Computers'},\n",
    "    'person2':{'name':'Raghu',\"Course\":\"Cyber_security\"}\n",
    "}\n",
    "print(human.items())\n",
    "print(human['person1'].items())\n",
    "print(human['person2'].items())\n",
    "\n",
    "# use the below cell and make your own dictionary and start using .items()"
   ]
  },
  {
   "cell_type": "code",
   "execution_count": null,
   "id": "b112fc5d-6e79-4588-9ed4-46288c4e2bb7",
   "metadata": {},
   "outputs": [],
   "source": []
  },
  {
   "cell_type": "markdown",
   "id": "bdcb972e-ce97-4a7e-a6d4-69411e8b9233",
   "metadata": {},
   "source": [
    "# get(key, default)\n",
    "Returns the value for a specified key. If the key is not found, it returns the default value.\n",
    "\n",
    "```python\n",
    "print(person.get(\"name\"))     # Output: 'Alice'\n",
    "print(person.get(\"email\", \"Not Found\"))  # Output: 'Not Found'"
   ]
  },
  {
   "cell_type": "code",
   "execution_count": null,
   "id": "c6e8a758-23b6-4a7f-a8e6-351bab1e7e3a",
   "metadata": {},
   "outputs": [],
   "source": [
    "# Before running this cell guess the answer and see it yourself.\n",
    "\n",
    "human= {\n",
    "    'person1':{\"name\":'Lilly',\"Course\":'Computers'},\n",
    "    'person2':{'name':'Raghu',\"Course\":\"Cyber_security\"}\n",
    "}\n",
    "print(human.get(\"person1\"))\n",
    "print(human['person1'].get('name'))\n",
    "print(human['person2'].get('Place',\"Place not Found \"))\n",
    "\n",
    "# use the below cell and make your own dictionary and start using .get()"
   ]
  },
  {
   "cell_type": "code",
   "execution_count": null,
   "id": "83f47a77-6fdd-49e0-a581-b63e60c32355",
   "metadata": {},
   "outputs": [],
   "source": []
  },
  {
   "cell_type": "markdown",
   "id": "31555836-c2ad-4927-9dd2-ec966054ecb1",
   "metadata": {},
   "source": [
    "# setdefault(key, default)\n",
    "Returns the value of a key. If the key does not exist, it inserts the key with the specified default value.\n",
    "\n",
    "```python\n",
    "person = {'name':'Alice'}\n",
    "email = person.setdefault(\"email\", \"alice@example.com\")\n",
    "print(email)      # Output: 'alice@example.com'\n",
    "print(person)     # Output: {'name': 'Alice', 'email': 'alice@example.com'}"
   ]
  },
  {
   "cell_type": "code",
   "execution_count": null,
   "id": "60be0905-6075-4190-97a6-b9074e272321",
   "metadata": {},
   "outputs": [],
   "source": [
    "# Before running this cell guess the answer and see it yourself.\n",
    "\n",
    "human= {\n",
    "    'person1':{\"name\":'Lilly',\"Course\":'Computers'},\n",
    "    'person2':{'name':'Raghu',\"Course\":\"Cyber_security\"}\n",
    "}\n",
    "email=human.setdefault(\"Common_Email\",\"xx123@yy.com\")\n",
    "print(human)\n",
    "print(email)\n",
    "email= human['person1'].setdefault(\"email\",\"lilly@lilly.com\")\n",
    "print(human['person1'])\n",
    "\n",
    "# use the below cell and make your own dictionary and start using .setdefault()"
   ]
  },
  {
   "cell_type": "code",
   "execution_count": null,
   "id": "f969ff0d-af9f-4188-8aa9-8ea0100f84e8",
   "metadata": {},
   "outputs": [],
   "source": []
  },
  {
   "cell_type": "markdown",
   "id": "89fddb33-c358-4cf8-932d-689b771ce3dc",
   "metadata": {},
   "source": [
    "# update()\n",
    "Updates the dictionary with elements from another dictionary object or from an iterable of key-value pairs.\n",
    "\n",
    "```python\n",
    "person.update({\"city\": \"New York\", \"age\": 31})\n",
    "print(person)  # Output: {'name': 'Alice', 'age': 31, 'city': 'New York'}"
   ]
  },
  {
   "cell_type": "code",
   "execution_count": null,
   "id": "f174dd3d-dd9f-40fc-8fd1-36f3b547bc21",
   "metadata": {},
   "outputs": [],
   "source": [
    "# Before running this cell guess the answer and see it yourself.\n",
    "\n",
    "human= {\n",
    "    'person1':{\"name\":'Lilly',\"Course\":'Computers'},\n",
    "    'person2':{'name':'Raghu',\"Course\":\"Cyber_security\"}\n",
    "}\n",
    "human.update({'person3':{'name':'saru','Course':'Computers'}})\n",
    "human['person2'].update({'Place':\"India\"})\n",
    "print(human)\n",
    "print(human['person2'])\n",
    "print(human['person3'])\n",
    "# use the below cell and make your own dictionary and start using .update()"
   ]
  },
  {
   "cell_type": "code",
   "execution_count": null,
   "id": "4fedffc1-01b8-41c4-9ac9-2fde9c61f0fd",
   "metadata": {},
   "outputs": [],
   "source": []
  },
  {
   "cell_type": "markdown",
   "id": "41ba6717-14ae-424b-ab22-3307f7efb28c",
   "metadata": {},
   "source": [
    "# pop(key)\n",
    "Removes the specified key and returns its value. Raises a KeyError if the key is not found.\n",
    "\n",
    "```python\n",
    "age = person.pop(\"age\")\n",
    "print(age)        # Output: 31\n",
    "print(person)     # Output: {'name': 'Alice', 'city': 'New York'}"
   ]
  },
  {
   "cell_type": "code",
   "execution_count": null,
   "id": "0b6edf90-dc3d-48f8-b9ff-371ea9bfcf8a",
   "metadata": {},
   "outputs": [],
   "source": [
    "# Before running this cell guess the answer and see it yourself.\n",
    "\n",
    "human= {\n",
    "    'person1':{\"name\":'Lilly',\"Course\":'Computers'},\n",
    "    'person2':{'name':'Raghu',\"Course\":\"Cyber_security\",'place':'India'}\n",
    "}\n",
    "human['person2'].pop('place')\n",
    "print(human['person2'])\n",
    "\n",
    "# use the below cell and make your own dictionary and start using .pop()"
   ]
  },
  {
   "cell_type": "code",
   "execution_count": null,
   "id": "3d0b4b57-c810-4818-8e99-b8b9112b67ea",
   "metadata": {},
   "outputs": [],
   "source": []
  },
  {
   "cell_type": "markdown",
   "id": "89e7acf3-3a70-44d9-932a-f222e1e7a57b",
   "metadata": {},
   "source": [
    "# popitem()\n",
    "Removes and returns the last inserted key-value pair as a tuple. In versions before 3.7, it removes an arbitrary item.\n",
    "\n",
    "```python\n",
    "item = person.popitem()\n",
    "print(item)       # Output: ('city', 'New York')\n",
    "print(person)     # Output: {'name': 'Alice'}"
   ]
  },
  {
   "cell_type": "code",
   "execution_count": null,
   "id": "a10b4650-2f80-4b43-af1b-d6494505bf80",
   "metadata": {},
   "outputs": [],
   "source": [
    "# Before running this cell guess the answer and see it yourself.\n",
    "\n",
    "human= {\n",
    "    'person1':{\"name\":'Lilly',\"Course\":'Computers'},\n",
    "    'person2':{'name':'Raghu',\"Course\":\"Cyber_security\",'place':'India'}\n",
    "}\n",
    "item1 = human['person1'].popitem()\n",
    "print(item1) # poped item \n",
    "print(human['person1']) # after poped we printing this Person1 \n",
    "\n",
    "item2 = human['person2'].popitem()\n",
    "print(item2) # poped item \n",
    "print(human['person1']) # after poped we printing this Person1 \n",
    "\n",
    "\n",
    "# use the below cell and make your own dictionary and start using .popitem()"
   ]
  },
  {
   "cell_type": "code",
   "execution_count": null,
   "id": "603407e0-05f0-44fc-938d-9ce195764e35",
   "metadata": {},
   "outputs": [],
   "source": []
  },
  {
   "cell_type": "markdown",
   "id": "1d17090a-d63e-4d36-8eb9-85504f7ecfa3",
   "metadata": {},
   "source": [
    "# clear()\n",
    "Removes all items from the dictionary.\n",
    "\n",
    "```python\n",
    "\n",
    "person.clear()\n",
    "print(person)  # Output: {}"
   ]
  },
  {
   "cell_type": "code",
   "execution_count": null,
   "id": "856be57f-1d47-4a37-8173-72652890093e",
   "metadata": {},
   "outputs": [],
   "source": [
    "# Before running this cell guess the answer and see it yourself.\n",
    "\n",
    "human= {\n",
    "    'person1':{\"name\":'Lilly',\"Course\":'Computers'},\n",
    "    'person2':{'name':'Raghu',\"Course\":\"Cyber_security\",'place':'India'}\n",
    "}\n",
    "human.clear()\n",
    "print(human)\n",
    "\n",
    "# use the below cell and make your own dictionary and start using .clear()"
   ]
  },
  {
   "cell_type": "code",
   "execution_count": null,
   "id": "3d9ce0aa-b8bf-41b5-9e36-c35fa867f897",
   "metadata": {},
   "outputs": [],
   "source": []
  },
  {
   "cell_type": "markdown",
   "id": "805ca07a-fa1c-4a40-99a1-593b673157e9",
   "metadata": {},
   "source": [
    "# Summary\n",
    "\n",
    "### Dictionaries store key-value pairs and are mutable.\n",
    "### Use keys or get() to access values.\n",
    "### Nested dictionaries allow for complex, structured data storage.\n",
    "### Methods like keys(), values(), items(), update(), get(), setdefault(), pop(), popiteam() ,clear() help manipulate dictionaries.\n",
    "\n",
    "## Dictionaries are a powerful tool for organizing and accessing data efficiently in Python!<br/>"
   ]
  },
  {
   "cell_type": "code",
   "execution_count": null,
   "id": "7ad88bc9-2771-4363-8e79-502dbf3ab574",
   "metadata": {},
   "outputs": [],
   "source": []
  }
 ],
 "metadata": {
  "kernelspec": {
   "display_name": "Python 3 (ipykernel)",
   "language": "python",
   "name": "python3"
  },
  "language_info": {
   "codemirror_mode": {
    "name": "ipython",
    "version": 3
   },
   "file_extension": ".py",
   "mimetype": "text/x-python",
   "name": "python",
   "nbconvert_exporter": "python",
   "pygments_lexer": "ipython3",
   "version": "3.10.12"
  }
 },
 "nbformat": 4,
 "nbformat_minor": 5
}
