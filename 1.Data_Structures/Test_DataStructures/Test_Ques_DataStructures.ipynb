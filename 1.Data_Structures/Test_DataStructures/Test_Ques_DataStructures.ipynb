{
 "cells": [
  {
   "cell_type": "markdown",
   "id": "f0337de4-c67a-4ae6-8c70-989723037f54",
   "metadata": {},
   "source": [
    "# Data Structures Quiz\n",
    "## 1. Numbers\n",
    "### Q1: What is the result of the following operation?\n",
    "\n",
    "```python\n",
    "7 * 8 - 5\n"
   ]
  },
  {
   "cell_type": "code",
   "execution_count": null,
   "id": "664bbed2-bdb6-4ad0-8510-39e912924cca",
   "metadata": {},
   "outputs": [],
   "source": []
  },
  {
   "cell_type": "markdown",
   "id": "38d1b664-ae45-48a6-a7f3-9b3dedd23bc7",
   "metadata": {},
   "source": [
    "### Q2: How would you calculate the remainder of dividing 15 by 4?\n",
    "\n",
    "```python\n",
    "\n",
    "# Write the expression"
   ]
  },
  {
   "cell_type": "code",
   "execution_count": null,
   "id": "a1cd8912-3c51-4f89-909c-ae55ce23f1f5",
   "metadata": {},
   "outputs": [],
   "source": []
  },
  {
   "cell_type": "markdown",
   "id": "137b4ec2-6f99-4ff2-b545-a9874fb04ac4",
   "metadata": {},
   "source": [
    "### Q3: What is the output of 2 ** 3 in Python?\n",
    "\n",
    "```python\n",
    "\n",
    "# Answer:"
   ]
  },
  {
   "cell_type": "code",
   "execution_count": null,
   "id": "89c9612a-740b-42a9-92f6-e562f6101b55",
   "metadata": {},
   "outputs": [],
   "source": []
  },
  {
   "cell_type": "markdown",
   "id": "f231a411-7a0c-4cff-a6b5-9b9bb3d236c9",
   "metadata": {},
   "source": [
    "# 2. Strings\n",
    "### Q4: How do you create a string with the value \"Hello, World!\"?\n",
    "\n",
    "```python\n",
    "# Write the code:\n"
   ]
  },
  {
   "cell_type": "code",
   "execution_count": null,
   "id": "ce165c11-e599-4524-8bf0-e0635cfe2743",
   "metadata": {},
   "outputs": [],
   "source": []
  },
  {
   "cell_type": "markdown",
   "id": "6f3c92ef-a082-4c2e-9403-d16d6db5cda9",
   "metadata": {},
   "source": [
    "### Q5: What will len(\"Python\") return?\n",
    "\n",
    "``` python\n",
    "# Answer:"
   ]
  },
  {
   "cell_type": "code",
   "execution_count": null,
   "id": "54644367-fa07-4587-82ea-c80b09b6cc20",
   "metadata": {},
   "outputs": [],
   "source": []
  },
  {
   "cell_type": "markdown",
   "id": "09c15cbb-3cc6-4fe4-a35f-4632a8af36eb",
   "metadata": {},
   "source": [
    "### Q6: If greeting = \"Hello, World!\", what will greeting[7:12] return?\n",
    "\n",
    "```python\n",
    "# Answer:"
   ]
  },
  {
   "cell_type": "code",
   "execution_count": null,
   "id": "8e682249-098e-4ab7-b9fb-63ba6bc566e2",
   "metadata": {},
   "outputs": [],
   "source": []
  },
  {
   "cell_type": "markdown",
   "id": "ac6480c4-48d5-4286-8d1b-d3520a9c06ff",
   "metadata": {},
   "source": [
    "### Q7: Given name = \"Alice\", use string formatting to create the string \"Hello, Alice!\".\n",
    "\n",
    "```python\n",
    "# Write the code:\n"
   ]
  },
  {
   "cell_type": "code",
   "execution_count": null,
   "id": "32fdf66d-8ba1-4544-bb11-e9d428f4bde2",
   "metadata": {},
   "outputs": [],
   "source": []
  },
  {
   "cell_type": "markdown",
   "id": "15307fe5-f7eb-44ac-abf0-0db9f2d491a7",
   "metadata": {},
   "source": [
    "# 3. Lists\n",
    "### Q8: How do you create a list with the elements 1, 2, and 3?\n",
    "\n",
    "```python\n",
    "\n",
    "# Write the code:\n"
   ]
  },
  {
   "cell_type": "code",
   "execution_count": null,
   "id": "058acded-d97c-43cb-ad2c-b5f3f6a3e022",
   "metadata": {},
   "outputs": [],
   "source": []
  },
  {
   "cell_type": "markdown",
   "id": "9999d7e4-cbda-4f68-9fc3-b51f831fdb5b",
   "metadata": {},
   "source": [
    "### Q9: What will my_list = [10, 20, 30]; my_list[1] = 25 do to the list?\n",
    "\n",
    "```python\n",
    "\n",
    "# Answer:\n"
   ]
  },
  {
   "cell_type": "code",
   "execution_count": null,
   "id": "4b56cd29-2916-4fd6-8a9b-c35385605f2b",
   "metadata": {},
   "outputs": [],
   "source": []
  },
  {
   "cell_type": "markdown",
   "id": "ff8f7348-9b78-4ded-a0f1-528d01027b2c",
   "metadata": {},
   "source": [
    "### Q10: Write a Python expression to append the value 4 to the list numbers = [1, 2, 3].\n",
    "\n",
    "```python\n",
    "Copy code\n",
    "# Write the code:\n"
   ]
  },
  {
   "cell_type": "code",
   "execution_count": null,
   "id": "77cc1e76-5036-4725-a4ae-8a2e2024ec3c",
   "metadata": {},
   "outputs": [],
   "source": []
  },
  {
   "cell_type": "markdown",
   "id": "fff174f1-a119-4438-bf5e-8d3ec42d937b",
   "metadata": {},
   "source": [
    "### Q11: How do you access the last element of a list colors = [\"red\", \"green\", \"blue\"]?\n",
    "\n",
    "```python\n",
    "\n",
    "# Write the code:\n"
   ]
  },
  {
   "cell_type": "code",
   "execution_count": null,
   "id": "01bb922a-6bee-4c4a-a3c9-76076be14fd6",
   "metadata": {},
   "outputs": [],
   "source": []
  },
  {
   "cell_type": "markdown",
   "id": "5cafc44b-cc17-49e8-9964-cb476643c27a",
   "metadata": {},
   "source": [
    "### Q12: How would you remove the item at index 2 from the list items = [\"apple\", \"banana\", \"cherry\"]?\n",
    "\n",
    "```python\n",
    "\n",
    "# Write the code:"
   ]
  },
  {
   "cell_type": "code",
   "execution_count": null,
   "id": "433d3c19-4929-4d5f-986b-e872df02a105",
   "metadata": {},
   "outputs": [],
   "source": []
  },
  {
   "cell_type": "markdown",
   "id": "b25d8c06-df79-496c-bfab-8af58780361a",
   "metadata": {},
   "source": [
    "# 4. Dictionaries\n",
    "### Q13: Create a dictionary with the keys \"name\", \"age\", and \"city\", and corresponding values \"Alice\", 30, and \"New York\".\n",
    "\n",
    "```python\n",
    "\n",
    "# Write the code:\n"
   ]
  },
  {
   "cell_type": "code",
   "execution_count": null,
   "id": "5de04962-12f9-44f7-8f88-db62b2c5ee84",
   "metadata": {},
   "outputs": [],
   "source": []
  },
  {
   "cell_type": "markdown",
   "id": "3821829c-3749-4306-823d-7426ae589ee4",
   "metadata": {},
   "source": [
    "### Q14: How do you access the value associated with the key \"age\" in the dictionary person = {\"name\": \"Bob\", \"age\": 25}?\n",
    "\n",
    "```python\n",
    "\n",
    "# Write the code:\n"
   ]
  },
  {
   "cell_type": "code",
   "execution_count": null,
   "id": "43d298a4-b933-496a-be2d-305de0f837b9",
   "metadata": {},
   "outputs": [],
   "source": []
  },
  {
   "cell_type": "markdown",
   "id": "8034d14a-0ca4-461d-87e5-34e15ba009ae",
   "metadata": {},
   "source": [
    "### Q15: How do you add a new key-value pair \"job\": \"Engineer\" to the dictionary person = {\"name\": \"Bob\", \"age\": 25}?\n",
    "\n",
    "```python\n",
    "\n",
    "# Write the code:\n"
   ]
  },
  {
   "cell_type": "code",
   "execution_count": null,
   "id": "2a548f2b-ba1b-4ed0-93ce-bf53d250974c",
   "metadata": {},
   "outputs": [],
   "source": []
  },
  {
   "cell_type": "markdown",
   "id": "d850b6de-6d70-463b-813d-b591ee85ff91",
   "metadata": {},
   "source": [
    "### Q16: What does the keys() method do when used on a dictionary?\n",
    "\n",
    "```python\n",
    "# Answer:\n"
   ]
  },
  {
   "cell_type": "code",
   "execution_count": null,
   "id": "e79f7123-b0e3-4c93-9b88-668827fb568a",
   "metadata": {},
   "outputs": [],
   "source": []
  },
  {
   "cell_type": "markdown",
   "id": "50d8dd55-bb53-4e0f-a491-7b67aae4101a",
   "metadata": {},
   "source": [
    "# 5. Tuples\n",
    "### Q17: How do you create a tuple with the elements 10, 20, and 30?\n",
    "\n",
    "```python\n",
    "# Write the code:\n"
   ]
  },
  {
   "cell_type": "code",
   "execution_count": null,
   "id": "e71a5007-6dd3-47a4-98ce-4eabfef7decb",
   "metadata": {},
   "outputs": [],
   "source": []
  },
  {
   "cell_type": "markdown",
   "id": "36f3425d-ca1d-457e-b0f8-e73583a1c73c",
   "metadata": {},
   "source": [
    "### Q18: If my_tuple = (1, 2, 3, 4), what will my_tuple[2] return?\n",
    "\n",
    "```python\n",
    "\n",
    "# Answer:\n"
   ]
  },
  {
   "cell_type": "code",
   "execution_count": null,
   "id": "704925a8-e42b-44d3-b12a-c62b1687977b",
   "metadata": {},
   "outputs": [],
   "source": []
  },
  {
   "cell_type": "markdown",
   "id": "2885df33-3f62-4953-b8ba-56d843b93ae2",
   "metadata": {},
   "source": [
    "### Q19: What happens if you try to modify the first element of a tuple my_tuple = (1, 2, 3) by writing my_tuple[0] = 10?\n",
    "\n",
    "```python\n",
    "\n",
    "# Answer:"
   ]
  },
  {
   "cell_type": "code",
   "execution_count": null,
   "id": "1b8e7634-330b-4b85-8441-1e703be09980",
   "metadata": {},
   "outputs": [],
   "source": []
  },
  {
   "cell_type": "markdown",
   "id": "f75eb913-f358-4692-b365-783cefb3e306",
   "metadata": {},
   "source": [
    "# 6. Sets\n",
    "### Q20: How do you create a set with the elements 1, 2, 3, and 4?\n",
    "\n",
    "```python\n",
    "# Write the code:"
   ]
  },
  {
   "cell_type": "code",
   "execution_count": null,
   "id": "4771930a-448b-4528-88fa-e1116663aedd",
   "metadata": {},
   "outputs": [],
   "source": []
  },
  {
   "cell_type": "markdown",
   "id": "04c8736b-6495-475a-9d57-7d01ca51f5c9",
   "metadata": {},
   "source": [
    "### Q21: What is the result of the following operation?\n",
    "\n",
    "```python\n",
    "\n",
    "set_a = {1, 2, 3}\n",
    "set_b = {3, 4, 5}\n",
    "set_c = set_a.intersection(set_b)\n",
    "# What is the value of set_c?\n"
   ]
  },
  {
   "cell_type": "code",
   "execution_count": null,
   "id": "aae49df7-1bae-4f4b-a4f9-f56dc8e36596",
   "metadata": {},
   "outputs": [],
   "source": []
  },
  {
   "cell_type": "markdown",
   "id": "1ccedef6-ac5c-40c2-a23a-e7b39e25d1cc",
   "metadata": {},
   "source": [
    "### Q22: How would you add an element 6 to the set numbers = {1, 2, 3, 4, 5}?\n",
    "\n",
    "```python\n",
    "Copy code\n",
    "# Write the code:"
   ]
  },
  {
   "cell_type": "code",
   "execution_count": null,
   "id": "d4f7ebff-b87c-4e79-af0d-f14dc90e29b4",
   "metadata": {},
   "outputs": [],
   "source": []
  },
  {
   "cell_type": "markdown",
   "id": "c2b7d96f-4f12-43c8-b50f-0173deb3286f",
   "metadata": {},
   "source": [
    "# 7. Booleans\n",
    "### Q23: What does the following expression evaluate to?\n",
    "\n",
    "```python\n",
    "\n",
    "(5 > 3) and (2 < 1)\n",
    "# Answer:\n"
   ]
  },
  {
   "cell_type": "code",
   "execution_count": null,
   "id": "94fb3d53-505f-4f3a-85a6-25abbed84955",
   "metadata": {},
   "outputs": [],
   "source": []
  },
  {
   "cell_type": "markdown",
   "id": "48f80acb-e27e-4c0e-9b5a-e8bc4c0772b2",
   "metadata": {},
   "source": [
    "### Q24: What will not (4 == 4) return?\n",
    "\n",
    "```python\n",
    "\n",
    "# Answer:\n"
   ]
  },
  {
   "cell_type": "code",
   "execution_count": null,
   "id": "600fff76-fade-4978-9e14-12b6a1996d0e",
   "metadata": {},
   "outputs": [],
   "source": []
  },
  {
   "cell_type": "markdown",
   "id": "d52f3b67-12ed-4803-a1ce-d1ec1468ecf5",
   "metadata": {},
   "source": [
    "### Q25: Write a Python expression using or that returns True if either a is greater than b or c is less than d.\n",
    "\n",
    "```python\n",
    "\n",
    "# Write the code:"
   ]
  },
  {
   "cell_type": "code",
   "execution_count": null,
   "id": "aa414893-d6e0-4a3e-8d56-39432d9cc99d",
   "metadata": {},
   "outputs": [],
   "source": []
  },
  {
   "cell_type": "markdown",
   "id": "e733bf66-3ac6-42e7-a7c4-48d86c2e718e",
   "metadata": {},
   "source": [
    "# 8. Files\n",
    "### Q26: How do you open a file named data.txt for reading?\n",
    "\n",
    "```python\n",
    "# Write the code:\n"
   ]
  },
  {
   "cell_type": "code",
   "execution_count": null,
   "id": "3e792074-6226-43d3-bafd-15da62da3e60",
   "metadata": {},
   "outputs": [],
   "source": []
  },
  {
   "cell_type": "markdown",
   "id": "e78de7fe-a658-4dc1-8588-b738adc1b731",
   "metadata": {},
   "source": [
    "### Q27: Write a Python statement to write the string \"Hello, World!\" to a file named output.txt.\n",
    "\n",
    "```python\n",
    "\n",
    "# Write the code:\n"
   ]
  },
  {
   "cell_type": "code",
   "execution_count": null,
   "id": "ce3d5f13-d5e0-4068-8e9a-126c27264554",
   "metadata": {},
   "outputs": [],
   "source": []
  },
  {
   "cell_type": "markdown",
   "id": "d35a205d-f3be-42c4-8a7b-8356085d24c2",
   "metadata": {},
   "source": [
    "### Q28: Using the with statement, write code to open a file named example.txt, read its contents, and print them.\n",
    "\n",
    "```python\n",
    "\n",
    "# Write the code:"
   ]
  },
  {
   "cell_type": "code",
   "execution_count": null,
   "id": "7cec9764-20c2-40b5-9133-5f449f39b82b",
   "metadata": {},
   "outputs": [],
   "source": []
  }
 ],
 "metadata": {
  "kernelspec": {
   "display_name": "Python 3 (ipykernel)",
   "language": "python",
   "name": "python3"
  },
  "language_info": {
   "codemirror_mode": {
    "name": "ipython",
    "version": 3
   },
   "file_extension": ".py",
   "mimetype": "text/x-python",
   "name": "python",
   "nbconvert_exporter": "python",
   "pygments_lexer": "ipython3",
   "version": "3.12.4"
  }
 },
 "nbformat": 4,
 "nbformat_minor": 5
}
