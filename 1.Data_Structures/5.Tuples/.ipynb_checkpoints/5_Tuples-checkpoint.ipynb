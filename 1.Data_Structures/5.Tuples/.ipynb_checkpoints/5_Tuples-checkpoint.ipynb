{
 "cells": [
  {
   "cell_type": "markdown",
   "id": "bab24f1e-1b10-4f6a-8e6d-3c075324c61b",
   "metadata": {},
   "source": [
    "# Tuples in Python\n",
    "Tuples are ordered, immutable collections of items. They are similar to lists but cannot be changed after creation.\n",
    "<br/>\n",
    "## 1. Creating Tuples\n",
    "Tuples are created using parentheses `()`.\n",
    "```python\n",
    "# Creating a tuple\n",
    "my_tuple = (1, 2, 3)\n",
    "\n",
    "# Single element tuple (note the comma)\n",
    "single_element = (4,)\n"
   ]
  },
  {
   "cell_type": "code",
   "execution_count": 4,
   "id": "cdbc7064-6e6c-4488-aecd-b8f33c64021a",
   "metadata": {},
   "outputs": [],
   "source": [
    " #Before running this cell guess the answer and see it yourself.\n",
    "\n",
    "humans = ('lilly','zigi','sara','monica')\n",
    "humans\n",
    "\n",
    "# use the below cell and make your own Tuple and print it."
   ]
  },
  {
   "cell_type": "code",
   "execution_count": null,
   "id": "1210c728-f4e8-4469-beb0-36293daf6e4a",
   "metadata": {},
   "outputs": [],
   "source": []
  },
  {
   "cell_type": "markdown",
   "id": "7d0844cc-8884-422e-add2-15e2cc233777",
   "metadata": {},
   "source": [
    "## 2. Accessing Tuples using indexing\n",
    "Access elements using indexing, just like lists.\n",
    "\n",
    "```python\n",
    "\n",
    "my_tuple = (\"apple\", \"banana\", \"cherry\")\n",
    "print(my_tuple[0])  # Output: 'apple'"
   ]
  },
  {
   "cell_type": "code",
   "execution_count": null,
   "id": "2672199c-e5b1-4052-b4f5-0ae197b25ecf",
   "metadata": {},
   "outputs": [],
   "source": [
    " #Before running this cell guess the answer and see it yourself.\n",
    "\n",
    "humans = ('lilly','zigi','sara','monica')\n",
    "print(humans[2])\n",
    "\n",
    "# use the below cell and make your own Tuple and print it using indexing."
   ]
  },
  {
   "cell_type": "code",
   "execution_count": null,
   "id": "b55b4142-dc03-4785-8c85-a400144d7654",
   "metadata": {},
   "outputs": [],
   "source": []
  },
  {
   "cell_type": "markdown",
   "id": "dcfa6269-0f97-47b5-aba6-1e6b6774d5ce",
   "metadata": {},
   "source": [
    "## 3. Immutability of Tuples\n",
    "Once created, the elements of a tuple cannot be changed.\n",
    "\n",
    "```python\n",
    "# Attempting to modify a tuple will raise an error\n",
    "# my_tuple[0] = \"orange\"  # This will cause an error\n"
   ]
  },
  {
   "cell_type": "code",
   "execution_count": 6,
   "id": "120e1ea3-b8f0-451c-85d1-17abfc0f5982",
   "metadata": {},
   "outputs": [
    {
     "ename": "TypeError",
     "evalue": "'tuple' object does not support item assignment",
     "output_type": "error",
     "traceback": [
      "\u001b[0;31m---------------------------------------------------------------------------\u001b[0m",
      "\u001b[0;31mTypeError\u001b[0m                                 Traceback (most recent call last)",
      "Cell \u001b[0;32mIn[6], line 2\u001b[0m\n\u001b[1;32m      1\u001b[0m humans \u001b[38;5;241m=\u001b[39m (\u001b[38;5;124m'\u001b[39m\u001b[38;5;124mlilly\u001b[39m\u001b[38;5;124m'\u001b[39m,\u001b[38;5;124m'\u001b[39m\u001b[38;5;124mzigi\u001b[39m\u001b[38;5;124m'\u001b[39m,\u001b[38;5;124m'\u001b[39m\u001b[38;5;124msara\u001b[39m\u001b[38;5;124m'\u001b[39m,\u001b[38;5;124m'\u001b[39m\u001b[38;5;124mmonica\u001b[39m\u001b[38;5;124m'\u001b[39m)\n\u001b[0;32m----> 2\u001b[0m \u001b[43mhumans\u001b[49m\u001b[43m[\u001b[49m\u001b[38;5;241;43m1\u001b[39;49m\u001b[43m]\u001b[49m\u001b[38;5;241m=\u001b[39m\u001b[38;5;124m'\u001b[39m\u001b[38;5;124mgigi\u001b[39m\u001b[38;5;124m'\u001b[39m\n",
      "\u001b[0;31mTypeError\u001b[0m: 'tuple' object does not support item assignment"
     ]
    }
   ],
   "source": [
    "humans = ('lilly','zigi','sara','monica')\n",
    "humans[1]='gigi'\n",
    "\n",
    "# We know that we cant change the values of tuples ,if we try to change -\n",
    "# then it popup with this error.\n",
    "\n",
    "# use the below cell and make your own Tuple and try to change the values."
   ]
  },
  {
   "cell_type": "code",
   "execution_count": null,
   "id": "53132de0-9f8d-43c8-b15f-95adef0b2f2b",
   "metadata": {},
   "outputs": [],
   "source": []
  },
  {
   "cell_type": "markdown",
   "id": "e6b10392-2ac1-4ebe-b1cd-860129fa5e3d",
   "metadata": {},
   "source": [
    "## 4. When to Use Tuples\n",
    "**Fixed Data**: When you want a collection of items that should not change.<br/>\n",
    "**Faster Access**: Slightly more efficient than lists for fixed data.<br/>\n",
    "**Hashable**: Can be used as keys in dictionaries."
   ]
  },
  {
   "cell_type": "markdown",
   "id": "8759cf99-15f3-430d-88f2-435164275c84",
   "metadata": {},
   "source": [
    "## 5. Basic Methods of Tuples\n",
    "### count`()`\n",
    "Returns the number of times a value appears in the tuple.\n",
    "\n",
    "```python\n",
    "numbers = (1, 2, 2, 3)\n",
    "print(numbers.count(2))  # Output: 2"
   ]
  },
  {
   "cell_type": "code",
   "execution_count": null,
   "id": "5f91972b-283e-4c3d-bd02-6ed2331165e1",
   "metadata": {},
   "outputs": [],
   "source": [
    " #Before running this cell guess the answer and see it yourself.\n",
    "\n",
    "humans = ('lilly','zigi','sara','monica','lilly')\n",
    "print(humans.count('lilly'))\n",
    "\n",
    "# use the below cell and make your own Tuple and print it using count()."
   ]
  },
  {
   "cell_type": "code",
   "execution_count": null,
   "id": "b5c6710d-1e75-4576-9981-51daa8dd0207",
   "metadata": {},
   "outputs": [],
   "source": []
  },
  {
   "cell_type": "markdown",
   "id": "87172abc-cb1b-46aa-8786-f61bf3528e8b",
   "metadata": {},
   "source": [
    "### index`()`\n",
    "Returns the index of the first occurrence of a value.\n",
    "\n",
    "```python\n",
    "numbers = (1, 2, 3)\n",
    "print(numbers.index(3))  # Output: 2"
   ]
  },
  {
   "cell_type": "code",
   "execution_count": null,
   "id": "bf74ec90-b415-4917-8749-4b2fd110a14a",
   "metadata": {},
   "outputs": [],
   "source": [
    " #Before running this cell guess the answer and see it yourself.\n",
    "\n",
    "humans = ('lilly','zigi','sara','monica','lilly')\n",
    "print(humans.index('sara'))\n",
    "\n",
    "# use the below cell and make your own Tuple and print it using index()."
   ]
  },
  {
   "cell_type": "code",
   "execution_count": null,
   "id": "6ce29020-1da8-4e54-addd-63ca1bdd8d38",
   "metadata": {},
   "outputs": [],
   "source": []
  },
  {
   "cell_type": "markdown",
   "id": "40a5b2ef-271c-487d-917d-429b222180f6",
   "metadata": {},
   "source": [
    "## 6. Tuple Packing and Unpacking\n",
    "## Packing\n",
    "Grouping values into a tuple.\n",
    "\n",
    "```python\n",
    "packed_tuple = 1, 2, 3"
   ]
  },
  {
   "cell_type": "code",
   "execution_count": null,
   "id": "d1da767b-08d3-401a-9b96-97adb1c358fe",
   "metadata": {},
   "outputs": [],
   "source": [
    " #Before running this cell guess the answer and see it yourself.\n",
    "\n",
    "drinks = 'mountaindew','monster'\n",
    "drinks\n",
    "\n",
    "# use the below cell and make your own Tuple and print it using packing."
   ]
  },
  {
   "cell_type": "code",
   "execution_count": null,
   "id": "90e98314-bb1b-4f5c-9ccd-e22033d8c595",
   "metadata": {},
   "outputs": [],
   "source": []
  },
  {
   "cell_type": "markdown",
   "id": "166a8aee-16cb-425d-8ad0-c127797773db",
   "metadata": {},
   "source": [
    "## Unpacking\n",
    "Extracting values from a tuple.\n",
    "\n",
    "```python\n",
    "a, b, c = packed_tuple\n",
    "print(a)  # Output: 1"
   ]
  },
  {
   "cell_type": "markdown",
   "id": "fc19d1e4-07e8-4564-919a-53f6db43c3a8",
   "metadata": {},
   "source": [
    "## Unpacking Example\n",
    "```python\n",
    "drinks = ('mountaindew', 'monster')\n",
    "mountaindew, monster = drinks\n",
    "\n",
    "print(mountaindew)  # Output: 'mountaindew'\n",
    "\n",
    "```\n",
    "### Step-by-Step Explanation\n",
    "### Step 1: Create a Tuple\n",
    "A tuple is a fixed collection of items, like a list but unchangeable.\n",
    "\n",
    "```python\n",
    "drinks = ('mountaindew', 'monster')\n",
    "```\n",
    "**Parentheses `()`**: Used to define a tuple.<br/>\n",
    "**Items**: 'mountaindew' and 'monster'.\n",
    "\n",
    "### Step 2: Unpack the Tuple\n",
    "Unpacking means assigning each item in the tuple to its own variable.\n",
    "\n",
    "```python\n",
    "mountaindew, monster = drinks\n",
    "```\n",
    "**Left Side**: mountaindew, monster are the variables.<br/>\n",
    "**Right Side**: drinks is the tuple. <br/>\n",
    "\n",
    "### **What Happens:**\n",
    "\n",
    "'mountaindew' gets the first item: 'mountaindew'.<br/>\n",
    "'monster' gets the second item: 'monster'. <br/>\n",
    "\n",
    "### Step 3: Use the Variables\n",
    "Now, you can use these variables in your code:\n",
    "\n",
    "```python\n",
    "print(mountaindew)  # Output: 'mountaindew'\n",
    "```\n",
    "**Print Statement**: Displays the value of mountaindew.<br/>\n",
    "### **Key Points**\n",
    "**Tuples**: Fixed collections, use () to create them.<br/>\n",
    "**Unpacking**: Assigns each item to a variable.<br/>\n",
    "**Order**: Must match between variables and tuple items.<br/>\n",
    "This way, you can easily work with multiple values stored in a tuple!\n",
    "<br/>\n",
    "\n",
    "```python\n",
    "# Now take time and use the below cell to pack and unpack the Tuple."
   ]
  },
  {
   "cell_type": "code",
   "execution_count": null,
   "id": "30a3f069-d5c8-414e-8199-838aab8e6a1b",
   "metadata": {},
   "outputs": [],
   "source": []
  },
  {
   "cell_type": "markdown",
   "id": "c614a56a-6180-4415-95a0-b3d5a8f6c1e7",
   "metadata": {},
   "source": [
    "## 7.Nested Tuples in Python\n",
    "Nested tuples are tuples that contain other tuples as their elements. They allow you to organize data hierarchically.\n",
    "<br/>\n",
    "### Creating Nested Tuples\n",
    "You can create nested tuples by including tuples as elements within another tuple.\n",
    "\n",
    "```python\n",
    "# Example of a nested tuple\n",
    "nested_tuple = ((1, 2), (3, 4), (5, 6))"
   ]
  },
  {
   "cell_type": "code",
   "execution_count": null,
   "id": "2272e4be-5558-481f-8b29-b06932e58eed",
   "metadata": {},
   "outputs": [],
   "source": [
    " #Before running this cell guess the answer and see it yourself.\n",
    "\n",
    "humans = (('lilly','USA'),('zigi','USA'),('sara','USA'),('monica','USA'))\n",
    "humans\n",
    "\n",
    "# use the below cell and make your own nested tuple and print it."
   ]
  },
  {
   "cell_type": "code",
   "execution_count": null,
   "id": "a4b55789-5d1b-4a5e-993a-39911defdf3f",
   "metadata": {},
   "outputs": [],
   "source": []
  },
  {
   "cell_type": "markdown",
   "id": "a6d986c1-e5ae-474a-806e-1a7c61e55759",
   "metadata": {},
   "source": [
    "## Accessing Elements\n",
    "To access elements in a nested tuple, use multiple indices to drill down into the structure.\n",
    "\n",
    "```python\n",
    "\n",
    "# Accessing the first element of the first tuple\n",
    "print(nested_tuple[0][0])  # Output: 1\n",
    "\n",
    "# Accessing the second element of the second tuple\n",
    "print(nested_tuple[1][1])  # Output: 4\n"
   ]
  },
  {
   "cell_type": "code",
   "execution_count": null,
   "id": "162c2f9b-1a16-49a3-9a5b-8d52becfd049",
   "metadata": {},
   "outputs": [],
   "source": [
    " #Before running this cell guess the answer and see it yourself.\n",
    "\n",
    "humans = (('lilly','USA'),('zigi','USA'),('sara','USA'),('monica','USA'))\n",
    "print(humans[0][0])\n",
    "print(humans[1][0])\n",
    "print(humans[2][0])\n",
    "print(humans[3][0])\n",
    "print(humans[2][1])\n",
    "\n",
    "# use the below cell and make your own nested tuple and print it."
   ]
  },
  {
   "cell_type": "code",
   "execution_count": null,
   "id": "87725e7d-468b-4810-b443-53aab3612d7c",
   "metadata": {},
   "outputs": [],
   "source": []
  },
  {
   "cell_type": "markdown",
   "id": "41128977-9a47-40eb-b093-cd106ab802a9",
   "metadata": {},
   "source": [
    "### Also There are other concepts like Iterating Over Nested tuples but will learn that after for loops."
   ]
  },
  {
   "cell_type": "markdown",
   "id": "5efabbe8-9cfc-42b2-83c5-56fdd74a5530",
   "metadata": {},
   "source": [
    "## Summary\n",
    "Tuples are immutable and used for fixed data. <br/>\n",
    "Access elements using indexing.<br/>\n",
    "Use methods like count() and index() to interact with tuple data.<br/>\n",
    "Tuples are useful for grouping related data and ensuring immutability."
   ]
  }
 ],
 "metadata": {
  "kernelspec": {
   "display_name": "Python 3 (ipykernel)",
   "language": "python",
   "name": "python3"
  },
  "language_info": {
   "codemirror_mode": {
    "name": "ipython",
    "version": 3
   },
   "file_extension": ".py",
   "mimetype": "text/x-python",
   "name": "python",
   "nbconvert_exporter": "python",
   "pygments_lexer": "ipython3",
   "version": "3.10.12"
  }
 },
 "nbformat": 4,
 "nbformat_minor": 5
}
