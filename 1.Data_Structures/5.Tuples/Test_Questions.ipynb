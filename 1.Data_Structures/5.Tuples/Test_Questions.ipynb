{
 "cells": [
  {
   "cell_type": "markdown",
   "id": "e5302176-6889-4f2b-9733-78061036d632",
   "metadata": {},
   "source": [
    "# Tuples Quiz\n",
    "\n",
    "### Question 1\n",
    "Q: What is a tuple in Python?"
   ]
  },
  {
   "cell_type": "code",
   "execution_count": null,
   "id": "12e50ad3-8957-4f29-bf19-5b85579400ab",
   "metadata": {},
   "outputs": [],
   "source": []
  },
  {
   "cell_type": "markdown",
   "id": "921a66fa-4f45-49f4-b58c-30adae308b90",
   "metadata": {},
   "source": [
    "### Question 2\n",
    "Q: How do you create a tuple with a single element?\n"
   ]
  },
  {
   "cell_type": "code",
   "execution_count": null,
   "id": "4b1e0be5-a44b-4f01-a742-44e30bf900dd",
   "metadata": {},
   "outputs": [],
   "source": []
  },
  {
   "cell_type": "markdown",
   "id": "b2600377-ccc8-4c64-8a7e-34c8a9565c95",
   "metadata": {},
   "source": [
    "### Question 3\n",
    "Q: How do you access the second item in the tuple \n",
    "```python\n",
    "colors = ('red', 'green', 'blue')?"
   ]
  },
  {
   "cell_type": "code",
   "execution_count": null,
   "id": "34ac57af-a427-41b2-b82e-1fa554ff10cb",
   "metadata": {},
   "outputs": [],
   "source": []
  },
  {
   "cell_type": "markdown",
   "id": "1dbd7970-c7cd-4bd0-a6c4-d8d220893239",
   "metadata": {},
   "source": [
    "### Question 4\n",
    "Q: Can you change the items in a tuple after it is created?\n",
    "\n"
   ]
  },
  {
   "cell_type": "code",
   "execution_count": null,
   "id": "20115b9c-4a30-4623-9b55-c97e4ce3d3a9",
   "metadata": {},
   "outputs": [],
   "source": []
  },
  {
   "cell_type": "markdown",
   "id": "513a51ad-bf28-43c9-b150-ba586b615ff2",
   "metadata": {},
   "source": [
    "### Question 5\n",
    "Q: How do you unpack the tuple \n",
    "```python\n",
    " drinks = ('tea', 'coffee') into variables?"
   ]
  },
  {
   "cell_type": "code",
   "execution_count": null,
   "id": "d978f778-37df-4e73-af0c-eeac46d6e7df",
   "metadata": {},
   "outputs": [],
   "source": []
  },
  {
   "cell_type": "markdown",
   "id": "eb6e6c6e-b890-40c3-b9af-f0ded60eff46",
   "metadata": {},
   "source": [
    "### Question 6\n",
    "Q: What will len((5, 6, 7)) return?\n",
    "```python\n",
    "len((5, 6, 7))\n",
    "```"
   ]
  },
  {
   "cell_type": "code",
   "execution_count": null,
   "id": "352cadd1-74fd-4fa5-be20-0d6b7fcfd4a2",
   "metadata": {},
   "outputs": [],
   "source": []
  },
  {
   "cell_type": "markdown",
   "id": "b9a1ef3e-aafe-457b-afc9-1ec7c8aa8139",
   "metadata": {},
   "source": [
    "### Question 7\n",
    "Q: What method would you use to find the index of 7 in the tuple (5, 6, 7, 8)\n",
    "```python\n",
    "newtuple = (5, 6, 7, 8)                                                         "
   ]
  },
  {
   "cell_type": "code",
   "execution_count": null,
   "id": "411b7590-9486-4ae3-ab82-1f49a957dbcc",
   "metadata": {},
   "outputs": [],
   "source": []
  },
  {
   "cell_type": "markdown",
   "id": "96cd76fb-b163-4e6a-9846-c2fcec7452d6",
   "metadata": {},
   "source": [
    "### Question 8\n",
    "Q: How can you concatenate two tuples, (1, 2) and (3, 4)?\n"
   ]
  },
  {
   "cell_type": "code",
   "execution_count": null,
   "id": "dde51a5b-51e0-4471-93ba-80f384bbe5e4",
   "metadata": {},
   "outputs": [],
   "source": []
  },
  {
   "cell_type": "markdown",
   "id": "c4171bcc-95d6-4b74-ba98-778b29f36da2",
   "metadata": {},
   "source": [
    "### Question 9\n",
    "Q: What does my_tuple = 1, 2, 3 create?"
   ]
  },
  {
   "cell_type": "code",
   "execution_count": null,
   "id": "445d187d-331f-45dd-9feb-1523829bb262",
   "metadata": {},
   "outputs": [],
   "source": []
  },
  {
   "cell_type": "markdown",
   "id": "8b540ae0-60c4-4919-8842-d3e3abadc9ff",
   "metadata": {},
   "source": [
    "### Question 10\n",
    "Q: Can a tuple contain other tuples?\n",
    "\n"
   ]
  },
  {
   "cell_type": "code",
   "execution_count": null,
   "id": "dc29cd88-6b8c-4e4d-8e91-a8c6eb7eb1eb",
   "metadata": {},
   "outputs": [],
   "source": []
  }
 ],
 "metadata": {
  "kernelspec": {
   "display_name": "Python 3 (ipykernel)",
   "language": "python",
   "name": "python3"
  },
  "language_info": {
   "codemirror_mode": {
    "name": "ipython",
    "version": 3
   },
   "file_extension": ".py",
   "mimetype": "text/x-python",
   "name": "python",
   "nbconvert_exporter": "python",
   "pygments_lexer": "ipython3",
   "version": "3.10.12"
  }
 },
 "nbformat": 4,
 "nbformat_minor": 5
}
