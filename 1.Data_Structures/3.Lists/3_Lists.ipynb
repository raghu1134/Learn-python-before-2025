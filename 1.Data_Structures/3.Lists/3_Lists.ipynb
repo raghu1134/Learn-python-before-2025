{
 "cells": [
  {
   "cell_type": "markdown",
   "id": "7fe18357-ed60-4d11-9d4d-7038aa49f7c4",
   "metadata": {},
   "source": [
    "# Lists in Python\n",
    "Lists are versatile data structures used to store collections of items. They are mutable, meaning you can change their contents.\n",
    "\n",
    "## 1. Creating Lists\n",
    "Lists are created using square brackets `[]`.\n",
    "\n",
    "```python\n",
    "# Creating a list of numbers\n",
    "numbers = [1, 2, 3, 4, 5]\n",
    "\n",
    "# Creating a list of strings\n",
    "fruits = [\"apple\", \"banana\", \"cherry\"]\n",
    "\n",
    "# Mixed data types\n",
    "mixed = [1, \"hello\", 3.14, True]"
   ]
  },
  {
   "cell_type": "code",
   "execution_count": 1,
   "id": "cbb5abbc-0197-4f32-8f48-c5f77e5969c3",
   "metadata": {},
   "outputs": [],
   "source": [
    "# Now use the below cell and Create your Own list"
   ]
  },
  {
   "cell_type": "code",
   "execution_count": null,
   "id": "7a231b14-ae2b-4aa6-bf51-1e8473834fa4",
   "metadata": {},
   "outputs": [],
   "source": []
  },
  {
   "cell_type": "markdown",
   "id": "51add221-8b0b-451c-8416-1f0e315e2983",
   "metadata": {},
   "source": [
    "## 2. Indexing and Slicing\n",
    "## Indexing\n",
    "Access individual items using their index (starting from 0).\n",
    "\n",
    "```python\n",
    "fruits = [\"apple\", \"banana\", \"cherry\"]\n",
    "print(fruits[0])  # Output: 'apple'\n",
    "print(fruits[-1]) # Output: 'cherry' (last item)\n",
    "```\n",
    "Same as we learned indexing in string it works same for everything."
   ]
  },
  {
   "cell_type": "code",
   "execution_count": null,
   "id": "5f46884f-f36c-4d58-8b1c-fd816cf0c19b",
   "metadata": {},
   "outputs": [],
   "source": [
    "# Before running this cell guess the answer and see it yourself.\n",
    "things = ['Whey_protein','Mass_gainer','Creatine']\n",
    "print(things[2])\n",
    "\n",
    "# use below cell and make your own list and start using indexing."
   ]
  },
  {
   "cell_type": "code",
   "execution_count": null,
   "id": "eec58b4f-a166-4cf3-8072-29b39955f520",
   "metadata": {},
   "outputs": [],
   "source": []
  },
  {
   "cell_type": "markdown",
   "id": "79f66a84-aba6-434e-82cb-d7672a28b256",
   "metadata": {},
   "source": [
    "## Slicing\n",
    "Extract a portion of the list.\n",
    "\n",
    "```python\n",
    "\n",
    "numbers = [1, 2, 3, 4, 5]\n",
    "print(numbers[1:4])  # Output: [2, 3, 4]\n",
    "print(numbers[:3])   # Output: [1, 2, 3]\n",
    "print(numbers[2:])   # Output: [3, 4, 5]\n",
    "```\n",
    "Same as we learned slicing in string it works same for everything."
   ]
  },
  {
   "cell_type": "code",
   "execution_count": 3,
   "id": "adce4995-7e45-4816-abde-028d04549bd4",
   "metadata": {},
   "outputs": [],
   "source": [
    "# Before running this cell guess the answer and see it yourself.\n",
    "things = ['Whey_protein','Mass_gainer','Creatine','warmup','sprinting']\n",
    "print(things[:4])\n",
    "print(things[2:5])\n",
    "print(things[:-1])\n",
    "\n",
    "# use below cell and make your own list and start using slicing."
   ]
  },
  {
   "cell_type": "code",
   "execution_count": null,
   "id": "fec044ad-8d14-47c5-810b-77c80485ad31",
   "metadata": {},
   "outputs": [],
   "source": []
  },
  {
   "cell_type": "markdown",
   "id": "3f05d48e-1dc3-452c-9214-d0759cd837f8",
   "metadata": {},
   "source": [
    "## Skipping with Steps\n",
    "Specify a step to skip elements.\n",
    "\n",
    "```python\n",
    "\n",
    "numbers = [1, 2, 3, 4, 5, 6]\n",
    "print(numbers[0:6:2])  # Output: [1, 3, 5] (every second element)\n",
    "```\n",
    "Same as we learned indexing in string it works same for everything."
   ]
  },
  {
   "cell_type": "code",
   "execution_count": null,
   "id": "f85c6b0b-7fc7-4525-9632-8c8b5aa73e41",
   "metadata": {},
   "outputs": [],
   "source": [
    "# Before running this cell guess the answer and see it yourself.\n",
    "things = ['Whey_protein','Mass_gainer','Creatine','warmup','sprinting']\n",
    "print(things[1::2])\n",
    "print(things[2:5:1])\n",
    "print(things[:-1:1])\n",
    "\n",
    "# use below cell and make your own list and start using skipping."
   ]
  },
  {
   "cell_type": "code",
   "execution_count": null,
   "id": "6422b1ff-e94d-41de-be2b-2ae1c478468c",
   "metadata": {},
   "outputs": [],
   "source": []
  },
  {
   "cell_type": "markdown",
   "id": "420f30d8-20ac-4ec2-af5d-6ddf4575644a",
   "metadata": {},
   "source": [
    "# 3. List Methods\n",
    "\n",
    "List methods are built-in functions that help manipulate and interact with lists in Python. They are used to add, remove, modify, and organize elements within a list, such as append(), remove(), pop(), sort(), and reverse() also there are many more.\n",
    "<br/>\n",
    "# append()\n",
    "Adds an item to the end of the list.\n",
    "\n",
    "```python\n",
    "\n",
    "fruits = [\"apple\", \"banana\"]\n",
    "fruits.append(\"cherry\")\n",
    "print(fruits)  # Output: ['apple', 'banana', 'cherry']\n",
    "```"
   ]
  },
  {
   "cell_type": "code",
   "execution_count": null,
   "id": "8436a4dc-54bd-47e2-aaeb-f4e6602acca2",
   "metadata": {},
   "outputs": [],
   "source": [
    "# Before running this cell guess the answer and see it yourself.\n",
    "things = ['Whey_protein','Mass_gainer']\n",
    "things.append('Creatine')\n",
    "print(things)\n",
    "\n",
    "# use below cell and make your own list and start using append() method."
   ]
  },
  {
   "cell_type": "code",
   "execution_count": null,
   "id": "1c6df7c6-190c-4005-b6c1-b348abc060bc",
   "metadata": {},
   "outputs": [],
   "source": []
  },
  {
   "cell_type": "markdown",
   "id": "344105eb-b092-48c2-b8a1-8adce7b07e3d",
   "metadata": {},
   "source": [
    "# insert()\n",
    "Inserts an item at a specified position.\n",
    "\n",
    "```python\n",
    "Copy code\n",
    "fruits = [\"apple\", \"banana\"]\n",
    "fruits.insert(1, \"mango\")\n",
    "print(fruits)  # Output: ['apple', 'mango', 'banana']"
   ]
  },
  {
   "cell_type": "code",
   "execution_count": 5,
   "id": "2564c79a-44dc-46df-839a-561868b9c50d",
   "metadata": {},
   "outputs": [],
   "source": [
    "# Before running this cell guess the answer and see it yourself.\n",
    "things = ['Whey_protein','Mass_gainer','Creatine']\n",
    "things.insert(2,'Protein')\n",
    "print(things)\n",
    "\n",
    "# use below cell and make your own list and start using insert() method."
   ]
  },
  {
   "cell_type": "code",
   "execution_count": null,
   "id": "35529ab1-eb1a-4634-82dc-bf5ff57af3fe",
   "metadata": {},
   "outputs": [],
   "source": []
  },
  {
   "cell_type": "markdown",
   "id": "27ad72c5-9a7e-48d7-a5d5-3d144bfd23f3",
   "metadata": {},
   "source": [
    "# pop()\n",
    "Removes and returns the item at the given position (or last item if no index is specified).\n",
    "\n",
    "```python\n",
    "fruits = [\"apple\", \"banana\", \"cherry\"]\n",
    "popped = fruits.pop()\n",
    "print(popped)  # Output: 'cherry'\n",
    "print(fruits)  # Output: ['apple', 'banana']"
   ]
  },
  {
   "cell_type": "code",
   "execution_count": 9,
   "id": "61d7a09a-28cc-4351-a73f-5cba04383063",
   "metadata": {},
   "outputs": [],
   "source": [
    "# Before running this cell guess the answer and see it yourself.\n",
    "things = ['Whey_protein','Mass_gainer','Creatine']\n",
    "things.pop()\n",
    "print(things)\n",
    "\n",
    "# use below cell and make your own list and start using pop() method."
   ]
  },
  {
   "cell_type": "code",
   "execution_count": null,
   "id": "33286c17-e6a6-4444-a4d3-f72502f8d5b2",
   "metadata": {},
   "outputs": [],
   "source": []
  },
  {
   "cell_type": "markdown",
   "id": "1ab39e63-6913-4b9f-9877-19f90ba303a6",
   "metadata": {},
   "source": [
    "# sort()\n",
    "Sorts the list in ascending order.\n",
    "\n",
    "```python\n",
    "\n",
    "numbers = [3, 1, 4, 2]\n",
    "numbers.sort()\n",
    "print(numbers)  # Output: [1, 2, 3, 4]"
   ]
  },
  {
   "cell_type": "code",
   "execution_count": 11,
   "id": "526509bc-4fd2-4ace-8a28-5796e49e138d",
   "metadata": {},
   "outputs": [],
   "source": [
    "# Before running this cell guess the answer and see it yourself.\n",
    "things = [67,34,89,45,90,32,9897]\n",
    "things.sort()\n",
    "print(things)\n",
    "\n",
    "# use below cell and make your own list and start using sort() method."
   ]
  },
  {
   "cell_type": "code",
   "execution_count": null,
   "id": "c9cba954-ad17-41b9-b61e-d62c6e70d39a",
   "metadata": {},
   "outputs": [],
   "source": []
  },
  {
   "cell_type": "markdown",
   "id": "8291cc5f-6fbb-47c3-ae4c-d87627182c89",
   "metadata": {},
   "source": [
    "# reverse()\n",
    "Reverses the order of the list.\n",
    "\n",
    "```python\n",
    "numbers = [1, 2, 3, 4]\n",
    "numbers.reverse()\n",
    "print(numbers)  # Output: [4, 3, 2, 1]"
   ]
  },
  {
   "cell_type": "code",
   "execution_count": null,
   "id": "bd8a659b-fbc3-4286-8096-f210ced7c5e2",
   "metadata": {},
   "outputs": [],
   "source": [
    "# Before running this cell guess the answer and see it yourself.\n",
    "things = [67,34,89,45,90,32,9897]\n",
    "things.reverse()\n",
    "print(things)\n",
    "\n",
    "# use below cell and make your own list and start using reverse() method."
   ]
  },
  {
   "cell_type": "code",
   "execution_count": null,
   "id": "1b45d1ce-9883-475a-a937-f062bc198961",
   "metadata": {},
   "outputs": [],
   "source": []
  },
  {
   "cell_type": "markdown",
   "id": "0e8b7853-31b1-4b24-87ad-e19fdda62f3a",
   "metadata": {},
   "source": [
    "# 4. Nesting Lists\n",
    "Lists can contain other lists, allowing for nested structures.<br/>\n",
    "in easy words a list contain another list inside of it.\n",
    "\n",
    "Easy Example\n",
    "```python\n",
    "# A list of lists\n",
    "nested_list = [\n",
    "    [\"apple\", \"banana\"],\n",
    "    [\"carrot\", \"pea\"],\n",
    "    [\"bread\", \"butter\"]\n",
    "]\n",
    "\n",
    "# Accessing an item from a nested list\n",
    "print(nested_list[1][0])  # Output: 'carrot'"
   ]
  },
  {
   "cell_type": "code",
   "execution_count": 20,
   "id": "2c7000e2-7274-4190-a150-63c3343abd7d",
   "metadata": {},
   "outputs": [],
   "source": [
    "# Before running this cell guess the answer and see it yourself.\n",
    "new_list=[['protien','vitamin'],['water','shake'],['mass_gainer','whey_protien']]\n",
    "print(new_list)\n",
    "print(new_list[1][1])\n",
    "print(new_list[2][0])\n",
    "# use below cell and make your own list and start using nesting."
   ]
  },
  {
   "cell_type": "code",
   "execution_count": null,
   "id": "3fc5d27e-fd15-4902-a722-79e3aaba5038",
   "metadata": {},
   "outputs": [],
   "source": []
  },
  {
   "cell_type": "markdown",
   "id": "c01c577b-049c-44e9-b7d9-782d256b4ae9",
   "metadata": {},
   "source": [
    "### There is also another one which is List Comprehensions you will learn in future."
   ]
  }
 ],
 "metadata": {
  "kernelspec": {
   "display_name": "Python 3 (ipykernel)",
   "language": "python",
   "name": "python3"
  },
  "language_info": {
   "codemirror_mode": {
    "name": "ipython",
    "version": 3
   },
   "file_extension": ".py",
   "mimetype": "text/x-python",
   "name": "python",
   "nbconvert_exporter": "python",
   "pygments_lexer": "ipython3",
   "version": "3.10.12"
  }
 },
 "nbformat": 4,
 "nbformat_minor": 5
}
