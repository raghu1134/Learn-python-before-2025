{
 "cells": [
  {
   "cell_type": "markdown",
   "id": "3db6de26-a901-477b-98ae-8ae84e2ea90e",
   "metadata": {},
   "source": [
    "# Understanding Strings in Python\n",
    "\n",
    "Strings are a fundamental data type in Python used to represent text. They are sequences of characters enclosed in quotes, such as `\"Hello, World!\"` or `'Python'`.Strings are immutable, meaning once they are created, they cannot be changed. You can access individual characters using indexing and extract parts of the string using slicing. Python provides many methods to manipulate strings, like changing their case or replacing parts of them. Additionally, strings can be formatted to include variables and expressions, making them versatile for creating dynamic text output. Understanding how to work with strings is essential for handling textual data effectively in Python.\n",
    "\n",
    "## Characteristics of Strings\n",
    "\n",
    "### 1. Creation of string\n",
    "\n",
    "You can create strings using either single or double quotes:\n",
    "\n",
    "```python\n",
    "single_quote = 'Hello, World!'  #output: Hello, World!\n",
    "double_quote = \"Hello, World!\"  #output: Hello, World!\n"
   ]
  },
  {
   "cell_type": "code",
   "execution_count": 3,
   "id": "8d55dac5-b51b-4b0e-a7d4-b2b4ba987678",
   "metadata": {},
   "outputs": [],
   "source": [
    "# a new string created below \n",
    "firstone = 'Hi Lilly'\n",
    "# firstone - which is a variable and = is used for assigning the value \n",
    "# 'Hi lilly' is a string and its assigned to firstone "
   ]
  },
  {
   "cell_type": "code",
   "execution_count": 4,
   "id": "00fcd20f-c901-4466-88aa-10d8692b8b58",
   "metadata": {},
   "outputs": [],
   "source": [
    "# use below cell and make atleast 1 variable with assigned string on your owm."
   ]
  },
  {
   "cell_type": "code",
   "execution_count": null,
   "id": "d10fa345-c504-4168-993f-71ed51f8672e",
   "metadata": {},
   "outputs": [],
   "source": []
  },
  {
   "cell_type": "markdown",
   "id": "b068f209-698c-4631-9296-2a2709aa4464",
   "metadata": {},
   "source": [
    "### 2. Printing Strings\n",
    "\n",
    "Use the print() function to display strings:\n",
    "```python\n",
    "print(\"Hello, World!\")  # Output: Hello, World!"
   ]
  },
  {
   "cell_type": "code",
   "execution_count": 8,
   "id": "8389309d-cf26-41b0-a156-c12785783557",
   "metadata": {},
   "outputs": [],
   "source": [
    "# Before running the cell guess the answer and see it yourself\n",
    "hello = 'Wassup Lilly'\n",
    "print(hello)\n",
    "\n",
    "# use below cell and make atleast 1 variable with assigned string on your own and print it."
   ]
  },
  {
   "cell_type": "code",
   "execution_count": null,
   "id": "cda4dc44-72ae-40f7-b080-3aaf987915df",
   "metadata": {},
   "outputs": [],
   "source": []
  },
  {
   "cell_type": "markdown",
   "id": "905a0c10-7335-4169-b1bd-4ce1a659b041",
   "metadata": {},
   "source": [
    "## 3.String Indexing\n",
    "\n",
    "Indexing allows you to access individual characters in a string. Each character has a position, called an index, starting from 0 for the first character.\n",
    "\n",
    "Example:\n",
    "```python\n",
    "text = \"lilly\"\n",
    "# Accessing characters using indexing\n",
    "print(text[0])  # Output: 'l'\n",
    "print(text[1])  # Output: 'i'\n",
    "print(text[-1]) # Output: 'y' (negative index starts from the end)\n",
    "Positive Index: Counts from the beginning (0 is the first character).\n",
    "Negative Index: Counts from the end (-1 is the last character).\n",
    "```"
   ]
  },
  {
   "cell_type": "code",
   "execution_count": 11,
   "id": "67c67bbc-005c-46db-a5eb-03ede60e4489",
   "metadata": {},
   "outputs": [],
   "source": [
    "# Before running the cell guess the answer and see it yourself.\n",
    "\n",
    "text = 'Hello wassup'\n",
    "print(text[0])\n",
    "print(text[6])\n",
    "print(text[-2])\n",
    "\n",
    "# use below cell and create a string and start indexing the values."
   ]
  },
  {
   "cell_type": "code",
   "execution_count": null,
   "id": "cc16c34a-404d-49d0-aa55-a7978197fb91",
   "metadata": {},
   "outputs": [],
   "source": []
  },
  {
   "cell_type": "markdown",
   "id": "35bfec36-5b3b-42b1-9aa5-c9d93d83dbbf",
   "metadata": {},
   "source": [
    "## 4.String Slicing\n",
    "Slicing allows you to extract a substring from a string by specifying a range of indices.\n",
    "```python\n",
    "Syntax:\n",
    "substring = string[start:end]\n",
    "start: The beginning index (inclusive).\n",
    "end: The ending index (exclusive).\n",
    "```\n",
    "example\n",
    "```python\n",
    "text = \"Python\"\n",
    "# Extracting a substring using slicing\n",
    "print(text[0:3])  # Output: 'Pyt' (includes index 0, 1, 2)\n",
    "```\n",
    "Here its asking to print from value 0 which is first postion, and stop at the 3rd one\n",
    "here you may think its asking to stop at 3 and why its not printing the 3rd value here, we asking to stop at 3 which mean upto 3 not 3rd value to be printted.\n",
    "```python\n",
    "print(text[2:])   # Output: 'thon' (from index 2 to the end)\n",
    "print(text[:4])   # Output: 'Pyth' (from start to index 3)\n",
    "print(text[1:5])  # Output: 'ytho' (includes index 1, 2, 3, 4)\n",
    "```\n",
    "### More Examples:\n",
    "Full String: text[:] gives you the whole string.<br/>\n",
    "Skipping Characters: You can add a step value with text [start:end:step] , you will learn them in next cell\n"
   ]
  },
  {
   "cell_type": "markdown",
   "id": "f16bc330-eeed-4352-b6cc-6ef8cd86f16c",
   "metadata": {},
   "source": [
    "## Slicing with Steps\n",
    "When slicing a string, you can specify a step value to control the interval between indices.\n",
    "```python\n",
    "Syntax:\n",
    "\n",
    "substring = string[start:end:step]\n",
    "start: The starting index (inclusive).\n",
    "end: The ending index (exclusive).\n",
    "step: The step value determines how many characters to skip.\n",
    "```\n",
    "\n",
    "Examples:<br/>\n",
    "Basic Step Usage\n",
    "```python\n",
    "\n",
    "text = \"Python\"\n",
    "print(text[0:6:1])  # Output: 'Python' (default step is 1)\n",
    "print(text[0:6:2])  # Output: 'Pto' (every second character)\n",
    "```\n",
    "### Negative Step\n",
    "A negative step value allows you to slice the string in reverse.\n",
    "\n",
    "```python\n",
    "\n",
    "text = \"Python\"\n",
    "print(text[5:0:-1])  # Output: 'nohty' (reverse slicing, starts at index 5)\n",
    "print(text[::-1])    # Output: 'nohtyP' (reverses the entire string)\n",
    "```\n",
    "<br/>\n",
    "\n",
    "## Skipping Characters\n",
    "You can skip characters by increasing the step value:\n",
    "\n",
    "```python\n",
    "\n",
    "text = \"abcdefgh\"\n",
    "print(text[0:8:3])  # Output: 'adg' (every third character)\n",
    "```\n",
    "\n",
    "### Summary\n",
    "\n",
    "Positive Step: Moves forward through the string.<br/>\n",
    "Negative Step: Moves backward through the string.<br/>\n",
    "Adjusting the step allows you to create patterns and manipulate strings creatively.<br/>\n",
    "<br/>\n",
    "Understanding steps in slicing gives you more control over how you extract and manipulate parts of a string!"
   ]
  },
  {
   "cell_type": "markdown",
   "id": "ca894118-3662-4b83-b179-ff38f1087571",
   "metadata": {},
   "source": [
    "### Now use this below cell to create a variable with string and start indexing and slicing take 2 cells fro indexing and 2 cells for slicing and take 2 more cells for skipping "
   ]
  },
  {
   "cell_type": "code",
   "execution_count": 14,
   "id": "e7ca0fd3-08b9-4e19-9741-c18b612e8796",
   "metadata": {},
   "outputs": [],
   "source": [
    "# Start Indexing in this cell and print them.\n",
    "\n"
   ]
  },
  {
   "cell_type": "code",
   "execution_count": 15,
   "id": "335b2448-8ed9-4cb0-a90e-a0cd0b78bc83",
   "metadata": {},
   "outputs": [],
   "source": [
    "# Start Indexing in this cell and print them.\n",
    "\n"
   ]
  },
  {
   "cell_type": "code",
   "execution_count": null,
   "id": "449824d2-9a7e-4bd7-9969-670aaae8caaf",
   "metadata": {},
   "outputs": [],
   "source": [
    "# Start Slicing in this cell and print them.\n",
    "\n"
   ]
  },
  {
   "cell_type": "code",
   "execution_count": null,
   "id": "822f963e-8cfe-41ad-b840-fee8ebc908bd",
   "metadata": {},
   "outputs": [],
   "source": [
    "# Start Slicing in this cell and print them.\n",
    "\n"
   ]
  },
  {
   "cell_type": "code",
   "execution_count": null,
   "id": "c1df0355-cdae-4c12-a7e6-95066610bf1a",
   "metadata": {},
   "outputs": [],
   "source": [
    "# Start Skipping in this cell and print them.\n",
    "\n"
   ]
  },
  {
   "cell_type": "code",
   "execution_count": 16,
   "id": "37ac13b6-6954-46f1-a535-2a0b5125de9b",
   "metadata": {},
   "outputs": [],
   "source": [
    "# Start Skipping in this cell and print them.\n",
    "\n"
   ]
  },
  {
   "cell_type": "markdown",
   "id": "dee1357f-0c54-4ed2-bc74-c7c38cab6b73",
   "metadata": {},
   "source": [
    "## 5. String Properties\n",
    "Immutable: Strings cannot be changed once created. <br/>\n",
    "Indexable: You can access characters using their index.\n",
    "\n",
    "## Immutability & mutability\n",
    "\n",
    "### Immutability\n",
    "Strings in Python are immutable, meaning once they are created, their content cannot be changed. Any operation that modifies a string will create a new string.\n",
    "\n",
    "```python\n",
    "\n",
    "text = \"Hello\"\n",
    "# Attempting to change a character will result in an error\n",
    "# text[0] = 'h'  # This will cause a TypeError \n",
    "```\n",
    "### Mutability\n",
    "Mutable objects can be modified in place, meaning their content can be changed without creating a new object. Examples include lists and dictionaries."
   ]
  },
  {
   "cell_type": "markdown",
   "id": "7d038714-0df4-4cb8-ae97-ea0c06fe680d",
   "metadata": {},
   "source": [
    "## 5. String Methods\n",
    "Python provides various methods to work with strings:\n",
    "\n",
    "```python\n",
    "\n",
    "text = \"hello, world!\"\n",
    "\n",
    "# Convert to uppercase\n",
    "print(text.upper())  # Output: HELLO, WORLD!\n",
    "\n",
    "# Convert to lowercase\n",
    "print(text.lower())  # Output: hello, world!\n",
    "\n",
    "# Capitalize the first letter\n",
    "print(text.capitalize())  # Output: Hello, world!\n",
    "\n",
    "# Replace text\n",
    "print(text.replace(\"world\", \"Python\"))  # Output: hello, Python!"
   ]
  },
  {
   "cell_type": "code",
   "execution_count": 19,
   "id": "9f79b4ef-b141-4f54-8dee-806fe10ce907",
   "metadata": {},
   "outputs": [],
   "source": [
    "# Before running the cell guess the answer and see it yourself\n",
    "text = 'Lilly'\n",
    "print(text.upper())\n",
    "\n",
    "# use below cell and create a string and start using the above method."
   ]
  },
  {
   "cell_type": "code",
   "execution_count": null,
   "id": "35cef3c4-d65d-4799-ac1f-e0104ba518d6",
   "metadata": {},
   "outputs": [],
   "source": []
  },
  {
   "cell_type": "code",
   "execution_count": null,
   "id": "08740898-cf8f-49d1-9956-d36f5c8a67f5",
   "metadata": {},
   "outputs": [],
   "source": [
    "# Before running the cell guess the answer and see it yourself\n",
    "text = 'LiLly'\n",
    "print(text.lower())\n",
    "\n",
    "# use below cell and create a string and start using the above method."
   ]
  },
  {
   "cell_type": "code",
   "execution_count": null,
   "id": "4665d10b-5fe0-4742-b70f-ed0496b3c341",
   "metadata": {},
   "outputs": [],
   "source": []
  },
  {
   "cell_type": "code",
   "execution_count": null,
   "id": "20c276c6-86fc-43f5-a73e-53d25ddbdeee",
   "metadata": {},
   "outputs": [],
   "source": [
    "# Before running the cell guess the answer and see it yourself\n",
    "text = 'Lilly'\n",
    "print(text.capitalize())\n",
    "\n",
    "# use below cell and create a string and start using the above method."
   ]
  },
  {
   "cell_type": "code",
   "execution_count": null,
   "id": "92be215d-a886-4b74-9826-b60fa5f84e11",
   "metadata": {},
   "outputs": [],
   "source": []
  },
  {
   "cell_type": "code",
   "execution_count": null,
   "id": "34cfcf3a-8910-4b4a-af1e-34c0a6273868",
   "metadata": {},
   "outputs": [],
   "source": [
    "# Before running the cell guess the answer and see it yourself\n",
    "text = 'Lilly'\n",
    "print(text.replace('Lilly','Wassup'))\n",
    "\n",
    "# use below cell and create a string and start using the above method."
   ]
  },
  {
   "cell_type": "code",
   "execution_count": null,
   "id": "7ebe1d09-b724-4f20-8fc9-794e488df3c1",
   "metadata": {},
   "outputs": [],
   "source": []
  },
  {
   "cell_type": "markdown",
   "id": "8d2e3e83-6f87-4f18-94a0-277a96aacafb",
   "metadata": {},
   "source": [
    "## String Formatting\n",
    "String formatting allows you to insert variables and expressions into strings. It helps create dynamic and readable text.\n",
    "\n",
    "### 1. f-Strings (Python 3.6+)\n",
    "f-Strings are a simple way to format strings using curly braces {}.\n",
    "\n",
    "```python\n",
    "\n",
    "name = \"Alice\"\n",
    "age = 30\n",
    "print(f\"My name is {name} and I am {age} years old.\")\n",
    "```\n",
    "Here the name variable will be applied to printed string where it shows {name} and age also used in the string as {age}\n",
    "Nothing but just mentioned in the string with variable name"
   ]
  },
  {
   "cell_type": "code",
   "execution_count": 21,
   "id": "df925394-f3f5-46ac-810f-98b1de2a561f",
   "metadata": {},
   "outputs": [],
   "source": [
    "# Before running the cell guess the answer and see it yourself\n",
    "name = 'Lilly'\n",
    "print(f'Hello her name is {name}')\n",
    "\n",
    "# use below cell and create a f-string on your own."
   ]
  },
  {
   "cell_type": "code",
   "execution_count": null,
   "id": "19335628-ef6b-4058-81df-9a2aad085d53",
   "metadata": {},
   "outputs": [],
   "source": []
  },
  {
   "cell_type": "markdown",
   "id": "279fdb03-40eb-45c1-8859-ae8276367bbe",
   "metadata": {},
   "source": [
    "## 2. format() Method\n",
    "The format() method inserts values into placeholders {} in a string.\n",
    "\n",
    "```python\n",
    "\n",
    "name = \"Alice\"\n",
    "age = 30\n",
    "print(\"My name is {} and I am {} years old.\".format(name, age))\n",
    "```\n",
    "Same like f-string method but here we using .format()"
   ]
  },
  {
   "cell_type": "code",
   "execution_count": null,
   "id": "f90bbcde-b8ae-4892-b433-4ee127363ac5",
   "metadata": {},
   "outputs": [],
   "source": [
    "# Before running the cell guess the answer and see it yourself\n",
    "name = 'Lilly'\n",
    "print('Hello her name is {}'.format(name))\n",
    "\n",
    "# use below cell and create a f-string on your own."
   ]
  },
  {
   "cell_type": "code",
   "execution_count": null,
   "id": "fc9d2e4a-682f-42b3-ae3a-c270c367295f",
   "metadata": {},
   "outputs": [],
   "source": []
  },
  {
   "cell_type": "markdown",
   "id": "93fc0196-84d7-4aaa-9419-5a3177d6369c",
   "metadata": {},
   "source": [
    "## 3. Percent % Formatting\n",
    "An older method using % to insert values into strings.\n",
    "\n",
    "```python\n",
    "\n",
    "name = \"Alice\"\n",
    "age = 30\n",
    "print(\"My name is %s and I am %d years old.\" % (name, age))\n",
    "```\n",
    "\n",
    "This method is used in older verstion of Python"
   ]
  },
  {
   "cell_type": "code",
   "execution_count": 25,
   "id": "13c2aa44-40a3-4a20-91ec-1486b7af219a",
   "metadata": {},
   "outputs": [],
   "source": [
    "# Before running the cell guess the answer and see it yourself\n",
    "name = 'Lilly'\n",
    "print('Hello her name is %s'% (name))\n",
    "\n",
    "#Here we use the %s for String and %d for Numbers\n",
    "# use below cell and create a f-string on your own."
   ]
  },
  {
   "cell_type": "code",
   "execution_count": null,
   "id": "cf401408-4977-4cc2-8772-9c90f2c911d8",
   "metadata": {},
   "outputs": [],
   "source": []
  },
  {
   "cell_type": "markdown",
   "id": "e16e61d9-ec63-4f56-967c-a485a3e4c248",
   "metadata": {},
   "source": [
    "### Example with Multiple Variables\n",
    "```python\n",
    "\n",
    "item = \"apples\"\n",
    "count = 5\n",
    "print(f\"I have {count} {item}.\")  # f-string\n",
    "print(\"I have {} {}.\".format(count, item))  # format()\n",
    "print(\"I have %d %s.\" % (count, item))  # percent"
   ]
  },
  {
   "cell_type": "markdown",
   "id": "b17918bf-3d93-46b1-b197-aa8aff4c77ab",
   "metadata": {},
   "source": [
    "## Formatting Numbers\n",
    "You can format numbers with f-Strings for better readability.\n",
    "\n",
    "```python\n",
    "\n",
    "pi = 3.14159\n",
    "print(f\"Pi is approximately {pi:.2f}.\")  # Output: Pi is a\n",
    "```\n",
    "## Summary\n",
    "f-Strings: Easiest and most modern way.\n",
    "format() Method: Flexible and versatile.\n",
    "Percent % Formatting: Older but still used."
   ]
  },
  {
   "cell_type": "markdown",
   "id": "eb09ee8f-ed96-4660-bd59-89aae2dbadcd",
   "metadata": {},
   "source": [
    "# String formatting helps create clear, dynamic text by incorporating variables directly into strings."
   ]
  },
  {
   "cell_type": "code",
   "execution_count": null,
   "id": "b3b3899c-4ddf-42d8-b306-379d63ec91a6",
   "metadata": {},
   "outputs": [],
   "source": []
  }
 ],
 "metadata": {
  "kernelspec": {
   "display_name": "Python 3 (ipykernel)",
   "language": "python",
   "name": "python3"
  },
  "language_info": {
   "codemirror_mode": {
    "name": "ipython",
    "version": 3
   },
   "file_extension": ".py",
   "mimetype": "text/x-python",
   "name": "python",
   "nbconvert_exporter": "python",
   "pygments_lexer": "ipython3",
   "version": "3.10.12"
  }
 },
 "nbformat": 4,
 "nbformat_minor": 5
}
