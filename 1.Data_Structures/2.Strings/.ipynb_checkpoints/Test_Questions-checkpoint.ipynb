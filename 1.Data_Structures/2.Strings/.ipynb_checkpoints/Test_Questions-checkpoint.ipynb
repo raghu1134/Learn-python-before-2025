{
 "cells": [
  {
   "cell_type": "markdown",
   "id": "ab7ed96c-9b77-46e8-998c-cf96c49194ba",
   "metadata": {},
   "source": [
    "## String Practice Questions\n",
    "\n",
    "### 1. **Concatenation**: What is the result of \n",
    "   ```python\n",
    "   \"Hello, \" + \"world!\"\n"
   ]
  },
  {
   "cell_type": "code",
   "execution_count": null,
   "id": "9c438e1b-32ac-4b53-99a4-7e3e46ce54af",
   "metadata": {},
   "outputs": [],
   "source": []
  },
  {
   "cell_type": "markdown",
   "id": "ed18da40-2795-4938-bdd6-d70a0ebde045",
   "metadata": {},
   "source": [
    "\n",
    "### 2. **Repetition**: What is\n",
    "   ```python\n",
    "    \"Python\" * 3\n"
   ]
  },
  {
   "cell_type": "code",
   "execution_count": null,
   "id": "87c05495-462a-46c1-9e46-1e8ad4475a57",
   "metadata": {},
   "outputs": [],
   "source": []
  },
  {
   "cell_type": "markdown",
   "id": "6371a8ff-4a50-4eeb-aa09-ddfc567114d4",
   "metadata": {},
   "source": [
    "\n",
    "### 3. **Length**: How many Characters are in\n",
    "   ```python\n",
    "    len(\"Data Science\")\n"
   ]
  },
  {
   "cell_type": "code",
   "execution_count": null,
   "id": "a79f546f-7a22-4378-93be-e3e17c1e79ef",
   "metadata": {},
   "outputs": [],
   "source": []
  },
  {
   "cell_type": "markdown",
   "id": "258e8f67-2b2b-4ca8-8bcf-5114064c4327",
   "metadata": {},
   "source": [
    "\n",
    "### 4. **Indexing**: What is the character at index 4 of\n",
    "   ```python\n",
    "    \"Programming\"[4]\n"
   ]
  },
  {
   "cell_type": "code",
   "execution_count": null,
   "id": "9a503c60-6dd8-4afc-a14f-5261e0712ca7",
   "metadata": {},
   "outputs": [],
   "source": []
  },
  {
   "cell_type": "markdown",
   "id": "6d2971f2-aa7e-44a0-a1ff-d8a5e5843bca",
   "metadata": {},
   "source": [
    "\n",
    "\n",
    "### 5. **Slicing**: What is the substring from index 2 to 5 of\n",
    "   ```python\n",
    "    \"OpenAI\"[2:5]\n"
   ]
  },
  {
   "cell_type": "code",
   "execution_count": null,
   "id": "98b91b75-3e69-4fb8-8759-89b36232f0f8",
   "metadata": {},
   "outputs": [],
   "source": []
  },
  {
   "cell_type": "markdown",
   "id": "48aa8da7-0f22-4f3e-a73c-a3e49f0171fc",
   "metadata": {},
   "source": [
    "\n",
    "\n",
    "### 6. **Uppercase Conversion**: Convert\n",
    "   ```python\n",
    "\"machine learning\".upper()\n"
   ]
  },
  {
   "cell_type": "code",
   "execution_count": null,
   "id": "65547834-6b6e-4650-af08-062b38da462f",
   "metadata": {},
   "outputs": [],
   "source": []
  },
  {
   "cell_type": "markdown",
   "id": "b16d6b17-cd74-45ac-9509-83787b77c2f3",
   "metadata": {},
   "source": [
    "\n",
    "\n",
    "### 7. **Lowercase Conversion**: Convert\n",
    "   ```python\n",
    "\"Artificial Intelligence\".lower()\n",
    "\n"
   ]
  },
  {
   "cell_type": "code",
   "execution_count": null,
   "id": "5a8a6263-555e-4869-ab0e-9a674c9c708a",
   "metadata": {},
   "outputs": [],
   "source": []
  },
  {
   "cell_type": "markdown",
   "id": "12a0deb5-ba7c-4101-8ed8-5eff8e209281",
   "metadata": {},
   "source": [
    "\n",
    "\n",
    "### 8. **Finding Substring**: What is the index of the first occurrence of \"is\" in\n",
    "   ```python\n",
    "\"This is a test\".find(\"is\")\n",
    "\n",
    "\n"
   ]
  },
  {
   "cell_type": "code",
   "execution_count": null,
   "id": "8b70d715-01aa-43ec-83ba-52cc9e31bd0c",
   "metadata": {},
   "outputs": [],
   "source": []
  },
  {
   "cell_type": "markdown",
   "id": "8eaaf3fb-3e07-4a8f-ae0a-61af2b78200c",
   "metadata": {},
   "source": [
    "\n",
    "\n",
    "### 9. **Replacing Substring**: Replace \"world\" with \"universe\" in\n",
    "   ```python\n",
    "\"Hello, world!\".replace(\"world\", \"universe\")\n",
    "\n",
    "\n"
   ]
  },
  {
   "cell_type": "code",
   "execution_count": null,
   "id": "3af57694-f5f7-43f1-b5cc-4be1ff404afe",
   "metadata": {},
   "outputs": [],
   "source": []
  },
  {
   "cell_type": "markdown",
   "id": "5164bfd2-9dfd-4f6d-acbc-d7df4c4419de",
   "metadata": {},
   "source": [
    "\n",
    "\n",
    "### 10. **Splitting String**: Split the string\n",
    "   ```python\n",
    "\"apple,banana,cherry\"\n"
   ]
  },
  {
   "cell_type": "code",
   "execution_count": null,
   "id": "22fc1c94-06dc-4378-8b99-a3005de00347",
   "metadata": {},
   "outputs": [],
   "source": []
  }
 ],
 "metadata": {
  "kernelspec": {
   "display_name": "Python 3 (ipykernel)",
   "language": "python",
   "name": "python3"
  },
  "language_info": {
   "codemirror_mode": {
    "name": "ipython",
    "version": 3
   },
   "file_extension": ".py",
   "mimetype": "text/x-python",
   "name": "python",
   "nbconvert_exporter": "python",
   "pygments_lexer": "ipython3",
   "version": "3.10.12"
  }
 },
 "nbformat": 4,
 "nbformat_minor": 5
}
